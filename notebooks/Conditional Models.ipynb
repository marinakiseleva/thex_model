{
 "cells": [
  {
   "cell_type": "code",
   "execution_count": 1,
   "metadata": {},
   "outputs": [
    {
     "name": "stderr",
     "output_type": "stream",
     "text": [
      "Using TensorFlow backend.\n"
     ]
    }
   ],
   "source": [
    "from datetime import datetime\n",
    "import time\n",
    "%matplotlib inline \n",
    "import warnings\n",
    "warnings.filterwarnings('ignore')\n",
    "\n",
    "from models.network_model.network_model import NetworkModel\n",
    "from models.conditional_kde_model.conditional_kde_model import ConditionalKDEModel\n",
    "from models.conditional_ktrees_model.conditional_ktrees_model import ConditionalKTreesModel\n",
    "\n",
    "\n",
    "mag_cols = ['GALEXAIS_FUV', 'GALEXAIS_NUV', # GALEX\n",
    "            'AllWISE_W1mag', 'AllWISE_W2mag', 'AllWISE_W3mag',  'AllWISE_W4mag', # AllWISE\n",
    "            'PS1_gmag', 'PS1_rmag', 'PS1_imag' , 'PS1_zmag', 'PS1_ymag' #Pan-STARRS\n",
    "           ]\n",
    "\n",
    "def run_and_log_time(model):\n",
    "    \"\"\"\n",
    "    Runs instantiated model, and outputs time taken.\n",
    "    \"\"\"\n",
    "    start_time = datetime.now() # for recording run-time\n",
    "    \n",
    "    model.run_model()\n",
    "    \n",
    "    end_time = datetime.now()\n",
    "    mins = int(time.mktime(end_time.timetuple()) -\n",
    "               time.mktime(start_time.timetuple())) / 60\n",
    "    print(model.name + \" took \" + str(round(mins,2)) + \" minutes to run \")\n",
    "    "
   ]
  },
  {
   "cell_type": "markdown",
   "metadata": {},
   "source": [
    "Loss Functions that don't work : roc_auc, precision"
   ]
  },
  {
   "cell_type": "code",
   "execution_count": null,
   "metadata": {
    "scrolled": false
   },
   "outputs": [],
   "source": [
    "# K-Trees model\n",
    "model = ConditionalKTreesModel(        \n",
    "         transform_features = False,\n",
    "         incl_redshift = True,\n",
    "         num_runs = 1,\n",
    "         min_class_size = 9,\n",
    "         folds = 3)\n",
    "run_and_log_time(model)\n"
   ]
  },
  {
   "cell_type": "code",
   "execution_count": null,
   "metadata": {},
   "outputs": [],
   "source": []
  },
  {
   "cell_type": "code",
   "execution_count": null,
   "metadata": {
    "scrolled": false
   },
   "outputs": [],
   "source": [
    "#Instantiate model\n",
    "model = NetworkModel(\n",
    "         transform_features = False,\n",
    "         incl_redshift = False,\n",
    "         num_runs = 1,\n",
    "         min_class_size = 5,\n",
    "         folds = 3)\n",
    "run_and_log_time(model)"
   ]
  },
  {
   "cell_type": "code",
   "execution_count": null,
   "metadata": {},
   "outputs": [],
   "source": []
  },
  {
   "cell_type": "code",
   "execution_count": null,
   "metadata": {},
   "outputs": [],
   "source": []
  }
 ],
 "metadata": {
  "kernelspec": {
   "display_name": "THEx env (py3env)",
   "language": "python",
   "name": "thexenv"
  },
  "language_info": {
   "codemirror_mode": {
    "name": "ipython",
    "version": 3
   },
   "file_extension": ".py",
   "mimetype": "text/x-python",
   "name": "python",
   "nbconvert_exporter": "python",
   "pygments_lexer": "ipython3",
   "version": "3.6.8"
  }
 },
 "nbformat": 4,
 "nbformat_minor": 2
}
