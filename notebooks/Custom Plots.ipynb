{
 "cells": [
  {
   "cell_type": "code",
   "execution_count": null,
   "metadata": {},
   "outputs": [],
   "source": [
    "import warnings\n",
    "warnings.filterwarnings('ignore')\n",
    "with warnings.catch_warnings():\n",
    "    warnings.filterwarnings(\"ignore\",category=DeprecationWarning)\n",
    "%matplotlib inline  \n",
    "from models.binary_model.binary_model import BinaryModel\n",
    "from models.ind_model.ind_model import IndModel\n",
    "from models.multi_model.multi_model import MultiModel\n",
    " \n",
    "from mainmodel.helper_plotting import *\n",
    "\n",
    "exp_dir = \"/Users/marina/Documents/PhD/research/astro_research/experiments/\" \n",
    "mags = [\"g_mag\",  \"r_mag\", \"i_mag\", \"z_mag\", \"y_mag\",\n",
    "        \"W1_mag\", \"W2_mag\",\n",
    "        \"J_mag\", \"K_mag\", \"H_mag\"]\n",
    "\n",
    "# Multi 103\n",
    "model = MultiModel(folds = 40, min_class_size = 40,  \n",
    "                   transform_features = True, cols = mags) \n",
    "multi_model = load_prev_exp(exp_dir, \"103\", model)\n",
    "\n",
    "# Binary 104\n",
    "model2 = BinaryModel(folds = 40, min_class_size = 40,  \n",
    "                     transform_features = True, cols = mags) \n",
    "binary_model = load_prev_exp(exp_dir, \"104/Binary_Classifiers1\", model2)\n",
    "\n",
    "\n",
    "# Ensemble 108\n",
    "model3 = IndModel(folds = 40, min_class_size = 40,  \n",
    "                   transform_features = True, cols = mags) \n",
    "ensemble_model = load_prev_exp(exp_dir, \"108/Ensemble_Classifier1\", model3)\n",
    "\n",
    "\n"
   ]
  },
  {
   "cell_type": "code",
   "execution_count": null,
   "metadata": {},
   "outputs": [],
   "source": []
  },
  {
   "cell_type": "code",
   "execution_count": null,
   "metadata": {},
   "outputs": [],
   "source": [
    "len(ensemble_model.class_labels)"
   ]
  },
  {
   "cell_type": "code",
   "execution_count": null,
   "metadata": {
    "scrolled": false
   },
   "outputs": [],
   "source": [
    "plot_rates_together(binary_model, ensemble_model, multi_model, indices=[0,1,2,3,4,5,6])\n",
    "plot_rates_together(binary_model, ensemble_model, multi_model, indices=[7,8,9,10,11,12,13])"
   ]
  },
  {
   "cell_type": "code",
   "execution_count": null,
   "metadata": {},
   "outputs": [],
   "source": []
  }
 ],
 "metadata": {
  "kernelspec": {
   "display_name": "thexkernel",
   "language": "python",
   "name": "thexkernel"
  },
  "language_info": {
   "codemirror_mode": {
    "name": "ipython",
    "version": 3
   },
   "file_extension": ".py",
   "mimetype": "text/x-python",
   "name": "python",
   "nbconvert_exporter": "python",
   "pygments_lexer": "ipython3",
   "version": "3.7.5"
  }
 },
 "nbformat": 4,
 "nbformat_minor": 4
}
