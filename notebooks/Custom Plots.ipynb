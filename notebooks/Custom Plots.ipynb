{
 "cells": [
  {
   "cell_type": "code",
   "execution_count": null,
   "metadata": {},
   "outputs": [],
   "source": [
    "import warnings\n",
    "warnings.filterwarnings('ignore')\n",
    "with warnings.catch_warnings():\n",
    "    warnings.filterwarnings(\"ignore\",category=DeprecationWarning)\n",
    "%matplotlib inline  \n",
    "from models.binary_model.binary_model import BinaryModel\n",
    "from models.ind_model.ind_model import IndModel\n",
    "from models.multi_model.multi_model import MultiModel\n",
    " \n",
    "from mainmodel.helper_plotting import *\n",
    "\n",
    "exp_dir = \"/Users/marina/Documents/PhD/research/astro_research/experiments/\" \n",
    "mags = [\"g_mag\",  \"r_mag\", \"i_mag\", \"z_mag\", \"y_mag\",\n",
    "        \"W1_mag\", \"W2_mag\",\n",
    "        \"J_mag\", \"K_mag\", \"H_mag\"]\n",
    "\n",
    "\n"
   ]
  },
  {
   "cell_type": "markdown",
   "metadata": {},
   "source": [
    "## Combine curves/rates"
   ]
  },
  {
   "cell_type": "code",
   "execution_count": null,
   "metadata": {},
   "outputs": [],
   "source": [
    "\n",
    "# Multi 103\n",
    "model = MultiModel(folds = 40, min_class_size = 40,  \n",
    "                   transform_features = True, cols = mags) \n",
    "multi_model = load_prev_exp(exp_dir, \"103\", model)\n",
    "\n",
    "# Binary 104\n",
    "model2 = BinaryModel(folds = 40, min_class_size = 40,  \n",
    "                     transform_features = True, cols = mags) \n",
    "binary_model = load_prev_exp(exp_dir, \"104/Binary_Classifiers1\", model2)\n",
    "\n",
    "\n",
    "# Ensemble 108\n",
    "model3 = IndModel(folds = 40, min_class_size = 40,  \n",
    "                   transform_features = True, cols = mags) \n",
    "ensemble_model = load_prev_exp(exp_dir, \"108/Ensemble_Classifier1\", model3)\n",
    "\n",
    "\n",
    "\n",
    "\n",
    "## GOOD PERFORMING\n",
    "# Ia, Ia-91bg, II, II P, TDE, GRB\n",
    "\n",
    "# maybe Ia Pec (for binary and ensemble) \n",
    "\n",
    "wanted_classes = [\"Unspecified Ia\", \"Ia-91bg\", \"Unspecified II\", \"II P\", \"TDE\", \"GRB\"]\n",
    "indices= []\n",
    "for index, cn in enumerate(ensemble_model.class_labels):\n",
    "    if cn in wanted_classes:\n",
    "        indices.append(index)\n",
    "indices"
   ]
  },
  {
   "cell_type": "code",
   "execution_count": null,
   "metadata": {},
   "outputs": [],
   "source": [
    "plot_rates_together(binary_model, ensemble_model, multi_model, indices=[0,1,2,3,4,5,6])\n",
    "plot_rates_together(binary_model, ensemble_model, multi_model, indices=[7,8,9,10,11,12,13])"
   ]
  },
  {
   "cell_type": "code",
   "execution_count": null,
   "metadata": {},
   "outputs": [],
   "source": [
    "plot_rates_together(binary_model, ensemble_model, multi_model, indices=indices)"
   ]
  },
  {
   "cell_type": "code",
   "execution_count": null,
   "metadata": {
    "scrolled": false
   },
   "outputs": [],
   "source": [
    "plot_pc_curves_together(binary_model, ensemble_model, multi_model, indices=indices)"
   ]
  },
  {
   "cell_type": "code",
   "execution_count": null,
   "metadata": {
    "scrolled": false
   },
   "outputs": [],
   "source": [
    "plot_pc_curves_together(binary_model, ensemble_model, multi_model, indices=[0,1,2,3,4,5,6])\n",
    "plot_pc_curves_together(binary_model, ensemble_model, multi_model, indices=[7,8,9,10,11,12,13])\n"
   ]
  },
  {
   "cell_type": "code",
   "execution_count": null,
   "metadata": {},
   "outputs": [],
   "source": []
  },
  {
   "cell_type": "code",
   "execution_count": null,
   "metadata": {},
   "outputs": [],
   "source": []
  },
  {
   "cell_type": "markdown",
   "metadata": {},
   "source": [
    "## Combine purity/comp plots"
   ]
  },
  {
   "cell_type": "code",
   "execution_count": null,
   "metadata": {},
   "outputs": [],
   "source": [
    "\n",
    "# Rerun performance visualizations on saved output of model. \n",
    "def load_prev_exp(expnum, model):\n",
    "    pickle_dir = \"/Users/marina/Documents/PhD/research/astro_research/experiments/\"+ expnum + \"/\"\n",
    "\n",
    "    # with open(pickle_dir + 'density_results.pickle', 'rb') as handle:\n",
    "    #     density_results = pickle.load(handle)  \n",
    "\n",
    "    with open(pickle_dir + 'results.pickle', 'rb') as handle:\n",
    "        results = pickle.load(handle)\n",
    "    model.results = results\n",
    "\n",
    "    with open(pickle_dir + 'y.pickle', 'rb') as handle:\n",
    "        y = pickle.load(handle)    \n",
    "    model.y = y\n",
    "    return model\n",
    "\n",
    "\n",
    "model = MultiModel(folds = 40,\n",
    "                   min_class_size = 40,  \n",
    "                   class_labels = ['Unspecified Ia', 'Unspecified II', 'Ia-91bg', 'TDE'],\n",
    "                   priors = [0.65, 0.36, 0.01, 0.005],\n",
    "                   transform_features = True,\n",
    "                   cols = mags)  \n",
    "multi_w = load_prev_exp(expnum=\"106/Multiclass_Classifier13\",model=model)\n",
    "\n",
    "\n",
    "model = MultiModel(folds = 40,\n",
    "                   min_class_size = 40,  \n",
    "                   class_labels = ['Unspecified Ia', 'Unspecified II', 'Ia-91bg', 'TDE'], \n",
    "                   transform_features = True,\n",
    "                   cols = mags)  \n",
    "multi_wo = load_prev_exp(expnum=\"107/Multiclass_Classifier15\",model=model)\n"
   ]
  },
  {
   "cell_type": "code",
   "execution_count": null,
   "metadata": {},
   "outputs": [],
   "source": [
    "\n",
    "from mainmodel.helper_compute import *\n",
    "from thex_data.data_consts import * \n",
    "\n",
    "def get_mets_for_model(model, met_type):\n",
    "    \n",
    "    pc_per_trial = model.get_pc_per_trial(model.results)\n",
    "    ps, cs = model.get_avg_pc(pc_per_trial, model.num_folds)\n",
    "    c_baselines, p_baselines = compute_baselines(\n",
    "            model.class_counts, model.class_labels, model.y, len(model.class_labels), model.class_priors)\n",
    "\n",
    "    p_intvls, c_intvls = compute_confintvls(pc_per_trial, model.class_labels)\n",
    "    if met_type == \"Purity\":\n",
    "#         list(d.values())\n",
    "        return model.class_labels, list(ps.values()), list(p_baselines.values()), list(p_intvls.values())\n",
    "    else:\n",
    "        return model.class_labels, list(cs.values()), list(c_baselines.values()), list(c_intvls.values())\n",
    "         \n",
    "\n",
    "def plot_together(m1, m2, m1_name, m2_name, plot_type = \"Purity\"):\n",
    "    \"\"\"\n",
    "    Plot the metrics of 2 models side by side\n",
    "    \"\"\"\n",
    "    m1_class_names, m1_metrics, m1_b, m1_intvls  = get_mets_for_model(model=m1, met_type=plot_type)\n",
    "    m2_class_names, m2_metrics, m2_b, m2_intvls  = get_mets_for_model(model=m2, met_type=plot_type)\n",
    "    fig, ax = plt.subplots(figsize=(FIG_WIDTH, FIG_HEIGHT), dpi=200,\n",
    "                           tight_layout=True, sharex=True, sharey=True)\n",
    "\n",
    " \n",
    "    BLUE = \"#1f77b4\"\n",
    "    GREEN = \"#00ffbf\"\n",
    "    def plot_m(ax, indices, errs, baselines, metrics, name, color):\n",
    "        bar_width=0.1\n",
    "        ax.barh(y=indices, \n",
    "                width=metrics, \n",
    "                height=bar_width, \n",
    "                xerr=errs,\n",
    "                capsize=2, \n",
    "                edgecolor='black', ecolor='coral', \n",
    "                color=color,\n",
    "                label=name)\n",
    "        for index, baseline in enumerate(baselines):\n",
    "            y_val = indices[index]\n",
    "            plt.vlines(x=baseline,\n",
    "                       ymin=y_val - (bar_width / 2),\n",
    "                       ymax=y_val + (bar_width / 2),\n",
    "                       linestyles='--', colors='red')\n",
    "    m1_errs = prep_err_bars(m1_intvls, m1_metrics) \n",
    "    m1_indices =[0.2, 0.42, 0.64, 0.86]\n",
    "    # with priors\n",
    "    plot_m(ax=ax, indices=m1_indices, errs=m1_errs, baselines=m1_b, \n",
    "           metrics=m1_metrics, color=GREEN, name=m1_name)\n",
    "    m2_errs = prep_err_bars(m2_intvls, m2_metrics)\n",
    "    plot_m(ax=ax, indices=[0.1, 0.32, 0.54, 0.76], errs=m2_errs, baselines=m2_b, \n",
    "           metrics=m2_metrics, color=BLUE, name=m2_name)\n",
    "\n",
    "    # Figure formatting\n",
    "    ax.set_xlim(0, 1)\n",
    "    plt.legend(fontsize=LAB_S)\n",
    "    plt.xticks(list(np.linspace(0, 1, 11)), [\n",
    "                       str(tick) + \"%\" for tick in list(range(0, 110, 10))], fontsize=TICK_S)\n",
    "    plt.yticks(np.array(m1_indices) - 0.05, clean_class_names(m1_class_names),  fontsize=TICK_S,\n",
    "                       horizontalalignment='right')\n",
    "    plt.ylabel('Transient Class', fontsize=LAB_S)\n",
    "    plt.xlabel(plot_type, fontsize=LAB_S)  \n",
    "    plt.title(plot_type, fontsize=TITLE_S)\n",
    "    plt.savefig(\"../output/custom_figures/combined_\" + plot_type + \".pdf\")\n",
    "\n",
    "\n"
   ]
  },
  {
   "cell_type": "code",
   "execution_count": null,
   "metadata": {
    "scrolled": false
   },
   "outputs": [],
   "source": [
    "plot_together(m1=multi_w, m2=multi_wo, m1_name=\"With priors\", m2_name=\"Without priors\", plot_type = \"Purity\")\n",
    "\n",
    "plot_together(m1=multi_w, m2=multi_wo, m1_name=\"With priors\", m2_name=\"Without priors\", plot_type = \"Completeness\")\n"
   ]
  },
  {
   "cell_type": "code",
   "execution_count": null,
   "metadata": {},
   "outputs": [],
   "source": []
  },
  {
   "cell_type": "code",
   "execution_count": null,
   "metadata": {},
   "outputs": [],
   "source": []
  }
 ],
 "metadata": {
  "kernelspec": {
   "display_name": "thexkernel",
   "language": "python",
   "name": "thexkernel"
  },
  "language_info": {
   "codemirror_mode": {
    "name": "ipython",
    "version": 3
   },
   "file_extension": ".py",
   "mimetype": "text/x-python",
   "name": "python",
   "nbconvert_exporter": "python",
   "pygments_lexer": "ipython3",
   "version": "3.7.5"
  }
 },
 "nbformat": 4,
 "nbformat_minor": 4
}
