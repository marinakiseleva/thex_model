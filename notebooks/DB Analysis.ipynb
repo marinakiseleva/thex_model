{
 "cells": [
  {
   "cell_type": "markdown",
   "metadata": {},
   "source": [
    "Examine distribution of features for each class in v4 vs v7a of the dataset."
   ]
  },
  {
   "cell_type": "code",
   "execution_count": 6,
   "metadata": {},
   "outputs": [],
   "source": [
    "from thex_data.data_init import *\n",
    "from thex_data.data_consts import ROOT_DIR, DATA_PATH\n",
    "from models.binary_model.binary_model import BinaryModel\n",
    "from models.ind_model.ind_model import OvAModel\n",
    "from models.multi_model.multi_model import MultiModel\n",
    "\n",
    "\n",
    "mags = [\"g_mag\",  \"r_mag\", \"i_mag\", \"z_mag\", \"y_mag\",\n",
    "        \"W1_mag\", \"W2_mag\",\n",
    "        \"J_mag\", \"K_mag\", \"H_mag\"]\n",
    "\n",
    "v7mags = []\n",
    "v4mags = []\n",
    "for i in mags:\n",
    "    v4mags.append(i + \"_v4\")\n",
    "    v7mags.append(i + \"_v7\")\n",
    "# v4\n",
    "df_v4ab = collect_data(ROOT_DIR + \"/../../data/catalogs/v4ab/assembled-magcols.fits\")\n",
    "# v7\n",
    "df_v7a = collect_data(\n",
    "    ROOT_DIR + \"/../../data/catalogs/v7/THEx-assembled-v7.1a-mags-legacy-xcalib-minxcal.fits\")\n",
    "merged_df = df_v4ab.merge(right=df_v7a, how='inner', on=[\n",
    "                          'name'], suffixes=['_v4', '_v7'])\n",
    "\n",
    "v4_labels_list = merged_df['claimedtype_v4'].tolist()\n",
    "v7_labels_list = merged_df['claimedtype_v7'].tolist()\n",
    "\n",
    "\n",
    "# Only keep rows whose labels did not change\n",
    "keep_indices = []\n",
    "for index, v4_label in enumerate(v4_labels_list):\n",
    "    v7_label = v7_labels_list[index]\n",
    "    if v7_label == v4_label:\n",
    "        keep_indices.append(index)\n",
    "merged_df = merged_df.loc[keep_indices]\n",
    "if not (merged_df['claimedtype_v4'] == merged_df['claimedtype_v7']).all():\n",
    "    raise ValueError(\"All labels should now be the same.\")\n",
    "merged_df['claimedtype'] = merged_df['claimedtype_v4']\n",
    "\n",
    "\n",
    "# Run on v4 features\n",
    "print(\"V4 Run\")\n",
    "v4_model = MultiModel(\n",
    "    folds=40,\n",
    "    min_class_size=40,\n",
    "    transform_features=True,\n",
    "    cols=v4mags,\n",
    "    data=merged_df,\n",
    ")\n",
    "\n",
    "v4_model.run_model()\n",
    "\n",
    "\n",
    "# Run on v7 features\n",
    "print(\"V7 Run\")\n",
    "v7_model = MultiModel(\n",
    "    folds=40,\n",
    "    min_class_size=40,\n",
    "    transform_features=True,\n",
    "    cols=v7mags,\n",
    "    data=merged_df,\n",
    ")\n",
    "\n",
    "v7_model.run_model()"
   ]
  },
  {
   "cell_type": "code",
   "execution_count": null,
   "metadata": {},
   "outputs": [],
   "source": []
  },
  {
   "cell_type": "code",
   "execution_count": null,
   "metadata": {},
   "outputs": [],
   "source": [
    "from thex_data.data_consts import ROOT_DIR\n",
    "model_v4 = MultiModel(\n",
    "       cols = mags,\n",
    "       folds = 3, \n",
    "       min_class_size = 40,   \n",
    "       transform_features = False, \n",
    "       data_file = ROOT_DIR + \"/../../data/catalogs/v4ab/assembled-magcols.fits\" )\n",
    "df_v4ab = pd.concat([model_v4.X, model_v4.y], axis=1)"
   ]
  },
  {
   "cell_type": "code",
   "execution_count": null,
   "metadata": {},
   "outputs": [],
   "source": [
    "# for feature in mags:\n",
    "plot_df_feature_dists(model.dir, \n",
    "                      df1=df_v7a, \n",
    "                      df2=df_v4ab, \n",
    "                      df1_name = \"v7a\",\n",
    "                      df2_name = \"v4\",\n",
    "                      feature=\"redshift\", \n",
    "                      class_labels=['GRB', 'TDE', 'Unspecified Ia', 'Unspecified II'])"
   ]
  }
 ],
 "metadata": {
  "kernelspec": {
   "display_name": "THEx env (py3env)",
   "language": "python",
   "name": "thexkernel"
  },
  "language_info": {
   "codemirror_mode": {
    "name": "ipython",
    "version": 3
   },
   "file_extension": ".py",
   "mimetype": "text/x-python",
   "name": "python",
   "nbconvert_exporter": "python",
   "pygments_lexer": "ipython3",
   "version": "3.8.5"
  }
 },
 "nbformat": 4,
 "nbformat_minor": 4
}
