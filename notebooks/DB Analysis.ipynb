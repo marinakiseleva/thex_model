{
 "cells": [
  {
   "cell_type": "markdown",
   "metadata": {},
   "source": [
    "Examine distribution of features for each class in v4 vs v7a of the dataset."
   ]
  },
  {
   "cell_type": "code",
   "execution_count": null,
   "metadata": {},
   "outputs": [],
   "source": [
    "%matplotlib inline  \n",
    "from models.binary_model.binary_model import BinaryModel\n",
    "from models.ind_model.ind_model import OvAModel\n",
    "from models.multi_model.multi_model import MultiModel\n",
    "import pandas as pd\n",
    "\n",
    "mags = [\"g_mag\",  \"r_mag\", \"i_mag\", \"z_mag\", \"y_mag\",\n",
    "        \"W1_mag\", \"W2_mag\",\n",
    "        \"J_mag\", \"K_mag\", \"H_mag\", \"redshift\"]\n",
    "\n",
    "# mags = [\"g_mag\",  \"r_mag\", \"i_mag\", \"z_mag\", \"y_mag\", \"u_mag\",\n",
    "#         \"W1_mag\", \"W2_mag\", \"W3_mag\", \"W4_mag\",\n",
    "#         \"J_mag\", \"K_mag\", \"H_mag\",\n",
    "#         \"NUV_mag\", \"FUV_mag\"]\n",
    "\n",
    "model = MultiModel(\n",
    "       cols = mags,\n",
    "       folds = 3, \n",
    "       min_class_size = 40,  \n",
    "       transform_features = False, \n",
    "       )\n",
    "    \n",
    "df_v7a = pd.concat([model.X, model.y], axis=1)\n"
   ]
  },
  {
   "cell_type": "code",
   "execution_count": null,
   "metadata": {},
   "outputs": [],
   "source": [
    "from thex_data.data_consts import ROOT_DIR\n",
    "model_v4 = MultiModel(\n",
    "       cols = mags,\n",
    "       folds = 3, \n",
    "       min_class_size = 40,   \n",
    "       transform_features = False, \n",
    "       data_file = ROOT_DIR + \"/../../data/catalogs/v4ab/assembled-magcols.fits\" )\n",
    "df_v4ab = pd.concat([model_v4.X, model_v4.y], axis=1)"
   ]
  },
  {
   "cell_type": "code",
   "execution_count": null,
   "metadata": {},
   "outputs": [],
   "source": [
    "# for feature in mags:\n",
    "plot_df_feature_dists(model.dir, \n",
    "                      df1=df_v7a, \n",
    "                      df2=df_v4ab, \n",
    "                      df1_name = \"v7a\",\n",
    "                      df2_name = \"v4\",\n",
    "                      feature=\"redshift\", \n",
    "                      class_labels=['GRB', 'TDE', 'Unspecified Ia', 'Unspecified II'])"
   ]
  },
  {
   "cell_type": "code",
   "execution_count": null,
   "metadata": {},
   "outputs": [],
   "source": []
  }
 ],
 "metadata": {
  "kernelspec": {
   "display_name": "THEx env (py3env)",
   "language": "python",
   "name": "thexkernel"
  },
  "language_info": {
   "codemirror_mode": {
    "name": "ipython",
    "version": 3
   },
   "file_extension": ".py",
   "mimetype": "text/x-python",
   "name": "python",
   "nbconvert_exporter": "python",
   "pygments_lexer": "ipython3",
   "version": "3.8.5"
  }
 },
 "nbformat": 4,
 "nbformat_minor": 4
}
