{
 "cells": [
  {
   "cell_type": "markdown",
   "metadata": {},
   "source": [
    "### Data Analysis: Features vs. Classes\n",
    "Below we do a cursory data analysis of the dataset provided. We determine which features are most prevalent in data, and how the feature availability is distributed across classes. "
   ]
  },
  {
   "cell_type": "code",
   "execution_count": null,
   "metadata": {},
   "outputs": [],
   "source": [
    "from thex_data.data_consts import TARGET_LABEL, ORIG_TARGET_LABEL\n",
    "import pandas as pd\n",
    "\n",
    "import utilities.utilities as util\n",
    "\n",
    "\n",
    "def class_counts(data, classes, column_name):\n",
    "    \"\"\"\n",
    "    Count number of samples in each class (in classes) which have a valid value in column_name, \n",
    "    returns these counts in a list in order of classes\n",
    "    :param classes: List of class to count on\n",
    "    :param column_name: Name of column to consider \n",
    "    \"\"\"\n",
    "    filt_data = data[~data[column_name].isnull()]\n",
    "    class_counts = []\n",
    "    for class_name in classes:\n",
    "        class_count = 0\n",
    "        for index, row in filt_data.iterrows():\n",
    "            if class_name in row[TARGET_LABEL]:\n",
    "                class_count += 1\n",
    "            \n",
    "        class_counts.append(class_count)\n",
    "    return class_counts\n",
    "\n",
    "\n",
    "def get_class_count_per_feature(data, valid_classes):\n",
    "    all_counts = []\n",
    "    data_columns = data.columns \n",
    "    for col in data_columns:\n",
    "        print(\"\\n Doing column \" + str(col))\n",
    "        col_class_counts = class_counts(data=data, classes=valid_classes, column_name=col)\n",
    "        all_counts.append([col] + col_class_counts)\n",
    "    return pd.DataFrame(all_counts, columns = [\"Feature Name\"] + valid_classes)"
   ]
  },
  {
   "cell_type": "code",
   "execution_count": null,
   "metadata": {},
   "outputs": [],
   "source": [
    "all_counts"
   ]
  },
  {
   "cell_type": "markdown",
   "metadata": {},
   "source": [
    "Collect data "
   ]
  },
  {
   "cell_type": "code",
   "execution_count": null,
   "metadata": {},
   "outputs": [],
   "source": [
    "from thex_data.data_prep import get_data\n",
    "from thex_data.data_filter import filter_columns\n",
    "from thex_data.data_init import collect_cols, collect_data\n",
    "\n",
    "\n",
    "# All class labels in assembled-magcols\n",
    "\n",
    "class_labels = ['Unspecified Ib/c', 'II', 'IIn', 'Unspecified II P', 'CC', 'Unspecified Ia Pec', 'Ia', 'Ib', 'Unspecified IIn', 'Ib/c', 'Unspecified II', 'Ia-91T', 'Ia Pec', 'Unspecified Ia', 'Unspecified Ic', 'II P', 'SE', 'Ic', 'Unspecified Ib', 'Ia-91bg']\n",
    "\n",
    "data_filters = {'incl_redshift' : True,\n",
    "               'class_labels' : class_labels}\n",
    "\n",
    "col_list = collect_cols(None, None)\n",
    "\n",
    "data = collect_data()"
   ]
  },
  {
   "cell_type": "code",
   "execution_count": null,
   "metadata": {},
   "outputs": [],
   "source": [
    "col_list = mags = [\"g_mag\",  \"r_mag\", \"i_mag\", \"z_mag\", \"y_mag\", \"u_mag\",\n",
    "        \"W1_mag\", \"W2_mag\", \"W3_mag\", \"W4_mag\",\n",
    "        \"J_mag\", \"K_mag\", \"H_mag\",\n",
    "        \"NUV_mag\", \"FUV_mag\", \"redshift\"]\n"
   ]
  },
  {
   "cell_type": "code",
   "execution_count": null,
   "metadata": {},
   "outputs": [],
   "source": [
    "from thex_data.data_consts import TARGET_LABEL, ORIG_TARGET_LABEL\n",
    "\n",
    "# Relabel label column\n",
    "data[TARGET_LABEL] = data[ORIG_TARGET_LABEL]\n",
    "\n",
    "# Remove rows with NULL lables\n",
    "data = data[~data[TARGET_LABEL].isnull()]\n",
    "\n",
    "# Drop empty class labels\n",
    "data = data[data[TARGET_LABEL] != \"\"]\n",
    "\n",
    "# Filter columns since only those that we can filter on need to be considered\n",
    "data = filter_columns(data.copy(), col_list)\n",
    "\n",
    "\n",
    "# data = get_data(col_list, data_filters)\n",
    "\n",
    "num_rows = data.shape[0]\n",
    "num_cols = data.shape[1]\n",
    "print(\"----- Init Data -----\")\n",
    "print(\"Rows: \" +  str(num_rows))\n",
    "print(\"Features: \" +  str(num_cols))"
   ]
  },
  {
   "cell_type": "markdown",
   "metadata": {},
   "source": [
    "Get count of each class for each valid feature"
   ]
  },
  {
   "cell_type": "code",
   "execution_count": null,
   "metadata": {},
   "outputs": [],
   "source": [
    "mags = ['FUV_mag', 'NUV_mag', \n",
    "        'g_mag', 'r_mag', 'i_mag', 'z_mag', 'y_mag',\n",
    "        'H_mag', 'J_mag', 'K_mag',  'u_mag', \n",
    "       'W1_mag', 'W2_mag', 'W3_mag', 'W4_mag'  ]\n",
    "\n",
    "UV = ['FUV_mag', 'NUV_mag']\n",
    "grizy = ['g_mag', 'r_mag', 'i_mag', 'z_mag', 'y_mag',]\n",
    "\n",
    "w3w4 = ['W3_mag', 'W4_mag']"
   ]
  },
  {
   "cell_type": "code",
   "execution_count": null,
   "metadata": {},
   "outputs": [],
   "source": [
    "# class_counts(filt_df, class_labels, column_name)\n",
    "cc = get_class_count_per_feature(data, class_labels)"
   ]
  },
  {
   "cell_type": "code",
   "execution_count": null,
   "metadata": {},
   "outputs": [],
   "source": [
    "cc"
   ]
  },
  {
   "cell_type": "markdown",
   "metadata": {},
   "source": [
    "Save to file"
   ]
  },
  {
   "cell_type": "code",
   "execution_count": null,
   "metadata": {},
   "outputs": [],
   "source": [
    "file_name = \"data_counts.csv\"\n",
    "cc.to_csv(\"../output/Data_Analysis/\" + file_name)"
   ]
  },
  {
   "cell_type": "code",
   "execution_count": null,
   "metadata": {},
   "outputs": [],
   "source": [
    "dd =cc.dropna(axis=0)"
   ]
  },
  {
   "cell_type": "code",
   "execution_count": null,
   "metadata": {},
   "outputs": [],
   "source": [
    "cc.shape"
   ]
  },
  {
   "cell_type": "code",
   "execution_count": null,
   "metadata": {},
   "outputs": [],
   "source": [
    "dd.shape"
   ]
  },
  {
   "cell_type": "code",
   "execution_count": null,
   "metadata": {},
   "outputs": [],
   "source": []
  },
  {
   "cell_type": "code",
   "execution_count": null,
   "metadata": {},
   "outputs": [],
   "source": [
    "# Column definitions\n",
    "mag_cols = ['GALEXAIS_FUV', 'GALEXAIS_NUV', # GALEX\n",
    "            'AllWISE_W1mag', 'AllWISE_W2mag', 'AllWISE_W3mag',  'AllWISE_W4mag', # AllWISE\n",
    "            'PS1_gmag', 'PS1_rmag', 'PS1_imag' , 'PS1_zmag', 'PS1_ymag' #Pan-STARRS\n",
    "           ]\n",
    "# 'AllWISE_Hmag_pabs', 'AllWISE_Jmag_pabs', 'AllWISE_Kmag_pabs', 'AllWISE_W1mag_pabs', 'AllWISE_W2mag_pabs','AllWISE_W3mag_pabs',  'AllWISE_W4mag_pabs'\n",
    "ALLWISE_COLS = ['AllWISE_chi2', 'AllWISE_chi2W1', 'AllWISE_chi2W2', 'AllWISE_chi2W3', 'AllWISE_chi2W4', 'AllWISE_Hmag', 'AllWISE_Hmag_ecr', 'AllWISE_Jmag', 'AllWISE_Jmag_ecr', 'AllWISE_Kmag', 'AllWISE_Kmag_ecr',  'AllWISE_snr1', 'AllWISE_snr2', 'AllWISE_snr3', 'AllWISE_snr4', 'AllWISE_W1mag', 'AllWISE_W1mag_ecr', 'AllWISE_W2mag', 'AllWISE_W2mag_ecr', 'AllWISE_W3mag', 'AllWISE_W3mag_ecr', 'AllWISE_W4mag', 'AllWISE_W4mag_ecr']\n",
    "\n",
    "# 'GALEXAIS_FUV_4_pabs','GALEXAIS_FUV_6_pabs','GALEXAIS_FUV_a_pabs', 'GALEXAIS_FUV_b_pabs', 'GALEXAIS_FUV_pabs','GALEXAIS_NUV_4_pabs','GALEXAIS_NUV_a_pabs','GALEXAIS_NUV_6_pabs', , 'GALEXAIS_NUV_pabs' 'GALEXAIS_NUV_b_pabs',\n",
    "GALEXAIS_COLS = ['GALEXAIS_Fflux', 'GALEXAIS_Fflux_GALEXAIS_Nflux', 'GALEXAIS_Fima', 'GALEXAIS_Fr', 'GALEXAIS_FUV', 'GALEXAIS_FUV_4', 'GALEXAIS_FUV_4_ecr',  'GALEXAIS_FUV_6', 'GALEXAIS_FUV_6_ecr',  'GALEXAIS_FUV_a', 'GALEXAIS_FUV_a_ecr', 'GALEXAIS_FUV_angsb', 'GALEXAIS_FUV_b', 'GALEXAIS_FUV_b_ecr', 'GALEXAIS_FUV_ecr',  'GALEXAIS_Nflux', 'GALEXAIS_Nima', 'GALEXAIS_Nr', 'GALEXAIS_NUV', 'GALEXAIS_NUV_4', 'GALEXAIS_NUV_4_ecr',  'GALEXAIS_NUV_6', 'GALEXAIS_NUV_6_ecr',  'GALEXAIS_NUV_a', 'GALEXAIS_NUV_a_ecr',  'GALEXAIS_NUV_angsb', 'GALEXAIS_NUV_b', 'GALEXAIS_NUV_b_ecr',  'GALEXAIS_NUV_ecr']\n",
    "\n",
    "MW_COLS = ['MWExt_FUV_PS', 'MWExt_FUV_Y', 'MWExt_g', 'MWExt_H', 'MWExt_i', 'MWExt_J', 'MWExt_Ks', 'MWExt_NUV_PS', 'MWExt_NUV_Y', 'MWExt_r', 'MWExt_u', 'MWExt_W1', 'MWExt_W2', 'MWExt_W3', 'MWExt_W4', 'MWExt_z']\n",
    "\n",
    "PS1_KMAG_COLS = ['PS1_gKmag', 'PS1_gKmag_ecr', 'PS1_gKmag_pabs', 'PS1_iKmag', 'PS1_iKmag_ecr', 'PS1_iKmag_pabs', 'PS1_rKmag', 'PS1_rKmag_ecr', 'PS1_rKmag_pabs', 'PS1_yKmag', 'PS1_yKmag_ecr', 'PS1_yKmag_pabs', 'PS1_zKmag', 'PS1_zKmag_ecr', 'PS1_zKmag_pabs']\n",
    "\n",
    "# Omit  'PS1_gmag_pabs', 'PS1_ymag_pabs','PS1_rmag_pabs','PS1_zmag_pabs','PS1_imag_pabs', \n",
    "PS1_MAG_COLS = [ 'PS1_gmag', 'PS1_gmag_ecr', 'PS1_gmagStd', 'PS1_imag', 'PS1_imag_ecr', 'PS1_imagStd', 'PS1_rmag', 'PS1_rmag_ecr',  'PS1_rmagStd', 'PS1_ymag', 'PS1_ymag_ecr',  'PS1_ymagStd', 'PS1_zmag', 'PS1_zmag_ecr',  'PS1_zmagStd']\n",
    "\n",
    "PS1_COLS = ['PS1_B_gmag', 'PS1_b_gmag', 'PS1_B_imag', 'PS1_b_imag', 'PS1_B_rmag', 'PS1_b_rmag', 'PS1_b_ymag', 'PS1_B_ymag', 'PS1_b_zmag', 'PS1_B_zmag']\n",
    "\n",
    "\n",
    "    "
   ]
  }
 ],
 "metadata": {
  "kernelspec": {
   "display_name": "THEx env (py3env)",
   "language": "python",
   "name": "thexenv"
  },
  "language_info": {
   "codemirror_mode": {
    "name": "ipython",
    "version": 3
   },
   "file_extension": ".py",
   "mimetype": "text/x-python",
   "name": "python",
   "nbconvert_exporter": "python",
   "pygments_lexer": "ipython3",
   "version": "3.7.5"
  }
 },
 "nbformat": 4,
 "nbformat_minor": 2
}
