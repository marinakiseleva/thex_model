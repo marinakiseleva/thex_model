{
 "cells": [
  {
   "cell_type": "markdown",
   "metadata": {},
   "source": [
    "### Data Analysis: Features vs. Classes\n",
    "Below we do a cursory data analysis of the dataset provided. We determine which features are most prevalent in data, and how the feature availability is distributed across classes. "
   ]
  },
  {
   "cell_type": "code",
   "execution_count": 1,
   "metadata": {},
   "outputs": [],
   "source": [
    "from thex_data.data_init import collect_data"
   ]
  },
  {
   "cell_type": "code",
   "execution_count": 2,
   "metadata": {},
   "outputs": [],
   "source": [
    "# Column definitions\n",
    "mag_cols = ['GALEXAIS_FUV', 'GALEXAIS_NUV', # GALEX\n",
    "            'AllWISE_W1mag', 'AllWISE_W2mag', 'AllWISE_W3mag',  'AllWISE_W4mag', # AllWISE\n",
    "            'PS1_gmag', 'PS1_rmag', 'PS1_imag' , 'PS1_zmag', 'PS1_ymag' #Pan-STARRS\n",
    "           ]\n",
    "# 'AllWISE_Hmag_pabs', 'AllWISE_Jmag_pabs', 'AllWISE_Kmag_pabs', 'AllWISE_W1mag_pabs', 'AllWISE_W2mag_pabs','AllWISE_W3mag_pabs',  'AllWISE_W4mag_pabs'\n",
    "ALLWISE_COLS = ['AllWISE_chi2', 'AllWISE_chi2W1', 'AllWISE_chi2W2', 'AllWISE_chi2W3', 'AllWISE_chi2W4', 'AllWISE_Hmag', 'AllWISE_Hmag_ecr', 'AllWISE_Jmag', 'AllWISE_Jmag_ecr', 'AllWISE_Kmag', 'AllWISE_Kmag_ecr',  'AllWISE_snr1', 'AllWISE_snr2', 'AllWISE_snr3', 'AllWISE_snr4', 'AllWISE_W1mag', 'AllWISE_W1mag_ecr', 'AllWISE_W2mag', 'AllWISE_W2mag_ecr', 'AllWISE_W3mag', 'AllWISE_W3mag_ecr', 'AllWISE_W4mag', 'AllWISE_W4mag_ecr']\n",
    "\n",
    "# 'GALEXAIS_FUV_4_pabs','GALEXAIS_FUV_6_pabs','GALEXAIS_FUV_a_pabs', 'GALEXAIS_FUV_b_pabs', 'GALEXAIS_FUV_pabs','GALEXAIS_NUV_4_pabs','GALEXAIS_NUV_a_pabs','GALEXAIS_NUV_6_pabs', , 'GALEXAIS_NUV_pabs' 'GALEXAIS_NUV_b_pabs',\n",
    "GALEXAIS_COLS = ['GALEXAIS_Fflux', 'GALEXAIS_Fflux_GALEXAIS_Nflux', 'GALEXAIS_Fima', 'GALEXAIS_Fr', 'GALEXAIS_FUV', 'GALEXAIS_FUV_4', 'GALEXAIS_FUV_4_ecr',  'GALEXAIS_FUV_6', 'GALEXAIS_FUV_6_ecr',  'GALEXAIS_FUV_a', 'GALEXAIS_FUV_a_ecr', 'GALEXAIS_FUV_angsb', 'GALEXAIS_FUV_b', 'GALEXAIS_FUV_b_ecr', 'GALEXAIS_FUV_ecr',  'GALEXAIS_Nflux', 'GALEXAIS_Nima', 'GALEXAIS_Nr', 'GALEXAIS_NUV', 'GALEXAIS_NUV_4', 'GALEXAIS_NUV_4_ecr',  'GALEXAIS_NUV_6', 'GALEXAIS_NUV_6_ecr',  'GALEXAIS_NUV_a', 'GALEXAIS_NUV_a_ecr',  'GALEXAIS_NUV_angsb', 'GALEXAIS_NUV_b', 'GALEXAIS_NUV_b_ecr',  'GALEXAIS_NUV_ecr']\n",
    "\n",
    "MW_COLS = ['MWExt_FUV_PS', 'MWExt_FUV_Y', 'MWExt_g', 'MWExt_H', 'MWExt_i', 'MWExt_J', 'MWExt_Ks', 'MWExt_NUV_PS', 'MWExt_NUV_Y', 'MWExt_r', 'MWExt_u', 'MWExt_W1', 'MWExt_W2', 'MWExt_W3', 'MWExt_W4', 'MWExt_z']\n",
    "\n",
    "PS1_KMAG_COLS = ['PS1_gKmag', 'PS1_gKmag_ecr', 'PS1_gKmag_pabs', 'PS1_iKmag', 'PS1_iKmag_ecr', 'PS1_iKmag_pabs', 'PS1_rKmag', 'PS1_rKmag_ecr', 'PS1_rKmag_pabs', 'PS1_yKmag', 'PS1_yKmag_ecr', 'PS1_yKmag_pabs', 'PS1_zKmag', 'PS1_zKmag_ecr', 'PS1_zKmag_pabs']\n",
    "\n",
    "# Omit  'PS1_gmag_pabs', 'PS1_ymag_pabs','PS1_rmag_pabs','PS1_zmag_pabs','PS1_imag_pabs', \n",
    "PS1_MAG_COLS = [ 'PS1_gmag', 'PS1_gmag_ecr', 'PS1_gmagStd', 'PS1_imag', 'PS1_imag_ecr', 'PS1_imagStd', 'PS1_rmag', 'PS1_rmag_ecr',  'PS1_rmagStd', 'PS1_ymag', 'PS1_ymag_ecr',  'PS1_ymagStd', 'PS1_zmag', 'PS1_zmag_ecr',  'PS1_zmagStd']\n",
    "\n",
    "PS1_COLS = ['PS1_B_gmag', 'PS1_b_gmag', 'PS1_B_imag', 'PS1_b_imag', 'PS1_B_rmag', 'PS1_b_rmag', 'PS1_b_ymag', 'PS1_B_ymag', 'PS1_b_zmag', 'PS1_B_zmag']\n",
    "\n",
    "\n",
    "    "
   ]
  },
  {
   "cell_type": "code",
   "execution_count": 2,
   "metadata": {},
   "outputs": [],
   "source": [
    "def class_counts(data, classes, column_name):\n",
    "    \"\"\"\n",
    "    Count number of samples in each class (in classes) which have a valid value in column_name\n",
    "    :param classes: List of class to count on\n",
    "    :param column_name: Name of column to consider \n",
    "    \"\"\"\n",
    "    valid_rows = data[data[column_name].notnull()]\n",
    "    class_counts = []\n",
    "    for class_name in classes:\n",
    "        class_count = valid_rows[valid_rows.claimedtype == class_name].shape[0]\n",
    "        class_counts.append(class_count)\n",
    "    return class_counts\n",
    "\n",
    "def get_valid_classes(data):\n",
    "    # Get ALL Unique classes including empty class, '', but only with more than 1 sample\n",
    "    # unique_classes = data.claimedtype.unique()\n",
    "    min_samples = 1\n",
    "    class_counts = data.claimedtype.value_counts()\n",
    "    valid_classes = class_counts.reset_index(name=\"count\").query(\"count > \" + str(min_samples))[\"index\"]\n",
    "    return valid_classes\n",
    "\n",
    "def get_class_count_per_feature(data, valid_classes):\n",
    "    all_counts = []\n",
    "    data_columns = data.columns \n",
    "    for col in data_columns:\n",
    "        col_class_counts = class_counts(data=data, classes=valid_classes, column_name=col)\n",
    "        all_counts.append([col] + col_class_counts)\n",
    "    return pd.DataFrame(all_counts, columns = [\"Feature Name\"] + valid_classes.tolist())"
   ]
  },
  {
   "cell_type": "markdown",
   "metadata": {},
   "source": [
    "Pull down data from /../../data/THEx-training-set-v0_0_3.fits"
   ]
  },
  {
   "cell_type": "code",
   "execution_count": 3,
   "metadata": {},
   "outputs": [
    {
     "name": "stdout",
     "output_type": "stream",
     "text": [
      "----- Init Data -----\n",
      "Rows: 36978\n",
      "Features: 123\n"
     ]
    }
   ],
   "source": [
    "import pandas as pd\n",
    "\n",
    "data = collect_data()\n",
    "\n",
    "num_rows = data.shape[0]\n",
    "num_cols = data.shape[1]\n",
    "print(\"----- Init Data -----\")\n",
    "print(\"Rows: \" +  str(num_rows))\n",
    "print(\"Features: \" +  str(num_cols))"
   ]
  },
  {
   "cell_type": "markdown",
   "metadata": {},
   "source": [
    "Get count of each class for each valid feature"
   ]
  },
  {
   "cell_type": "code",
   "execution_count": 4,
   "metadata": {},
   "outputs": [],
   "source": [
    "valid_classes = get_valid_classes(data)\n",
    "df = get_class_count_per_feature(data, valid_classes)"
   ]
  },
  {
   "cell_type": "markdown",
   "metadata": {},
   "source": [
    "Save to file"
   ]
  },
  {
   "cell_type": "code",
   "execution_count": null,
   "metadata": {},
   "outputs": [],
   "source": [
    "file_name = \"class_count_per_feature_assembled_magcols.csv\"\n",
    "df.to_csv(\"../output/Data_Analysis/\" + file_name)"
   ]
  },
  {
   "cell_type": "code",
   "execution_count": 9,
   "metadata": {},
   "outputs": [
    {
     "data": {
      "text/plain": [
       "['Feature Name',\n",
       " 'I, Ia, _ROOT, _SN, _W_UVOPT',\n",
       " 'Candidate',\n",
       " '',\n",
       " 'CC, II, _ROOT, _SN, _W_UVOPT',\n",
       " 'GRB, LGRB, _ROOT, _W_HIENERGY',\n",
       " 'CC, II, II P, _ROOT, _SN, _W_UVOPT',\n",
       " 'CC, II, IIn, _ROOT, _SN, _W_UVOPT',\n",
       " 'CC, I, Ic, SE, _ROOT, _SN, _W_UVOPT',\n",
       " 'I, Ia, Ia Pec, Ia-91T, _PEC_SN, _ROOT, _SN, _W_UVOPT',\n",
       " 'CC, I, Ib, SE, _ROOT, _SN, _W_UVOPT',\n",
       " 'I, Ia, Ia Pec, _PEC_SN, _ROOT, _SN, _W_UVOPT',\n",
       " 'GRB, _ROOT, _W_HIENERGY',\n",
       " 'GRB, SGRB, _ROOT, _W_HIENERGY',\n",
       " 'CC, I, Ib/c, SE, _ROOT, _SN, _W_UVOPT',\n",
       " 'CC, I, IIb, Ib, SE, _ROOT, _SN, _W_UVOPT',\n",
       " 'I, Ia, Ia Pec, Ia-91bg, _PEC_SN, _ROOT, _SN, _W_UVOPT',\n",
       " 'CC, I, II, IIb, Ib, SE, _CONFLICT, _CONFLICT_I_II, _ROOT, _SN, _W_UVOPT',\n",
       " 'I, _SN, _W_UVOPT',\n",
       " 'CC, _ROOT',\n",
       " 'CC, I, Ic, Ic BL, Ic Pec, SE, _PEC_SN, _ROOT, _SN, _W_UVOPT',\n",
       " 'CC, SLSN, SLSN-I, _ROOT, _SN, _W_UVOPT',\n",
       " 'CC, I, II, Ia, _CONFLICT, _CONFLICT_I_II, _CONFLICT_Ia_CC, _ROOT, _SN, _W_UVOPT',\n",
       " 'I, Ia, Ia Pec, Ia-HV, _PEC_SN, _ROOT, _SN, _W_UVOPT',\n",
       " 'CC, I, Ia, Ib/c, SE, _CONFLICT, _CONFLICT_Ia_CC, _ROOT, _SN, _W_UVOPT',\n",
       " 'TDE, _ROOT',\n",
       " 'CC, II, II L, _ROOT, _SN, _W_UVOPT',\n",
       " 'I, Ia, Ia Pec, Ia-02cx, _PEC_SN, _ROOT, _SN, _W_UVOPT',\n",
       " 'CC, I, Ib, Ic, SE, _CONFLICT, _CONFLICT_Ib_Ic, _ROOT, _SN, _W_UVOPT',\n",
       " 'CC, SLSN, SLSN-II, _ROOT, _SN, _W_UVOPT',\n",
       " 'CC, I, Ib/c, Ic, SE, _ROOT, _SN, _W_UVOPT',\n",
       " 'CC, I, Ib, Ibn, SE, _ROOT, _SN, _W_UVOPT',\n",
       " 'CC, I, Ib, Ib/c, SE, _ROOT, _SN, _W_UVOPT',\n",
       " 'CC, _CONFUSION, _CONFUSION_CC, _ROOT, nIa',\n",
       " 'AGN, Impostor',\n",
       " 'CC, I, Ia, Ic, SE, _CONFLICT, _CONFLICT_Ia_CC, _ROOT, _SN, _W_UVOPT',\n",
       " 'Other',\n",
       " 'CC, II, II P, II Pec, _PEC_SN, _ROOT, _SN, _W_UVOPT',\n",
       " 'CC, II, II Pec, _PEC_SN, _ROOT, _SN, _W_UVOPT',\n",
       " 'CC, II, II P, IIn, _ROOT, _SN, _W_UVOPT',\n",
       " 'TDE, UVOptTDE, _ROOT, _W_UVOPT',\n",
       " 'CC, I, Ia, Ib, SE, _CONFLICT, _CONFLICT_Ia_CC, _ROOT, _SN, _W_UVOPT',\n",
       " 'CC, II, IIn, IIn Pec, _PEC_SN, _ROOT, _SN, _W_UVOPT',\n",
       " 'CC, II, IIn, Impostor, Star, Variable, _CONFLICT, _CONFLICT_SN_Impostor, _ROOT, _SN, _W_UVOPT',\n",
       " 'GRB, LGRB, SGRB, _ROOT, _W_HIENERGY',\n",
       " 'CC, I, Ic, Ic Pec, SE, _PEC_SN, _ROOT, _SN, _W_UVOPT',\n",
       " 'CC, I, Ib, Ib Pec, SE, _PEC_SN, _ROOT, _SN, _W_UVOPT',\n",
       " 'CC, I, Ib, Ib/c, Ic, SE, _CONFLICT, _CONFLICT_Ib_Ic, _ROOT, _SN, _W_UVOPT',\n",
       " 'AGN, CC, I, Ic, Ic BL, Ic Pec, Impostor, SE, _CONFLICT, _CONFLICT_SN_Impostor, _PEC_SN, _ROOT, _SN, _W_UVOPT',\n",
       " 'I, Ia, Ia CSM, Ia Pec, _PEC_SN, _ROOT, _SN, _W_UVOPT',\n",
       " 'PossibleXrayTDE, TDE, XrayTDE, _ROOT, _W_HIENERGY',\n",
       " 'CC, I, Ic, SE, SLSN, SLSN-I, _ROOT, _SN, _W_UVOPT',\n",
       " 'LikelyXrayTDE, TDE, XrayTDE, _ROOT, _W_HIENERGY',\n",
       " 'CC, I, Ib, Ib/c, Other, SE, _ROOT, _SN, _W_UVOPT',\n",
       " 'CC, GRB, I, Ic, Ic BL, Ic Pec, LGRB, SE, _PEC_SN, _ROOT, _SN, _W_HIENERGY, _W_UVOPT',\n",
       " 'CC, I, II, Ic, SE, _CONFLICT, _CONFLICT_I_II, _ROOT, _SN, _W_UVOPT',\n",
       " 'CC, II, Other, _ROOT, _SN, _W_UVOPT',\n",
       " 'Impostor, Star, Variable',\n",
       " 'CC, II, IIn, SLSN, SLSN-II, _ROOT, _SN, _W_UVOPT',\n",
       " 'CC, I, IIb, Ib, Ib/c, SE, _ROOT, _SN, _W_UVOPT',\n",
       " 'CC, I, II, IIn, Ia, _CONFLICT, _CONFLICT_I_II, _CONFLICT_Ia_CC, _ROOT, _SN, _W_UVOPT',\n",
       " 'CC, SLSN, _ROOT, _SN, _W_UVOPT',\n",
       " 'CC, I, II, IIn, Ia, Ia CSM, Ia Pec, _CONFLICT, _CONFLICT_I_II, _CONFLICT_Ia_CC, _PEC_SN, _ROOT, _SN, _W_UVOPT',\n",
       " 'CC, I, II, II P, Ia, _CONFLICT, _CONFLICT_I_II, _CONFLICT_Ia_CC, _ROOT, _SN, _W_UVOPT',\n",
       " 'CC, II, SLSN, SLSN-I, _ROOT, _SN, _W_UVOPT',\n",
       " 'CC, I, II, II P, IIb, Ib, SE, _CONFLICT, _CONFLICT_I_II, _ROOT, _SN, _W_UVOPT',\n",
       " 'I, Ia/c, _CONFUSION, _CONFUSION_Ia_CC, _SN, _W_UVOPT',\n",
       " 'CC, I, IIb, Ib, Ic, SE, _CONFLICT, _CONFLICT_Ib_Ic, _ROOT, _SN, _W_UVOPT',\n",
       " 'CC, I, Ib/c, Ic, Ic BL, Ic Pec, SE, _PEC_SN, _ROOT, _SN, _W_UVOPT',\n",
       " 'CC, I, Ib, Ib Pec, Ib-Ca, SE, _PEC_SN, _ROOT, _SN, _W_UVOPT',\n",
       " 'CC, I, II, _CONFLICT, _CONFLICT_I_II, _ROOT, _SN, _W_UVOPT',\n",
       " 'Galaxy, I, Ia, Impostor, _CONFLICT, _CONFLICT_SN_Impostor, _ROOT, _SN, _W_UVOPT',\n",
       " 'CC, II, II L, IIn, _ROOT, _SN, _W_UVOPT',\n",
       " 'TDE, XrayTDE, _ROOT, _W_HIENERGY',\n",
       " 'CC, I, SLSN, SLSN-I, _ROOT, _SN, _W_UVOPT',\n",
       " 'AGN, CC, II, Impostor, _CONFLICT, _CONFLICT_SN_Impostor, _ROOT, _SN, _W_UVOPT',\n",
       " 'CC, I, II, IIn, Ib, SE, _CONFLICT, _CONFLICT_I_II, _ROOT, _SN, _W_UVOPT',\n",
       " 'CC, II, Impostor, Star, Variable, _CONFLICT, _CONFLICT_SN_Impostor, _ROOT, _SN, _W_UVOPT',\n",
       " 'CC, GRB, I, Ib/c, Ic, Ic BL, Ic Pec, LGRB, SE, _PEC_SN, _ROOT, _SN, _W_HIENERGY, _W_UVOPT',\n",
       " 'CC, I, IIb, Ia, Ib, SE, _CONFLICT, _CONFLICT_Ia_CC, _ROOT, _SN, _W_UVOPT',\n",
       " 'I, Ia, Other, _ROOT, _SN, _W_UVOPT',\n",
       " 'CC, I, II, IIb, Ia, Ib, SE, _CONFLICT, _CONFLICT_I_II, _CONFLICT_Ia_CC, _ROOT, _SN, _W_UVOPT',\n",
       " 'CC, I, II, Ib/c, SE, _CONFLICT, _CONFLICT_I_II, _ROOT, _SN, _W_UVOPT',\n",
       " 'I, Ia, Ia/c, _CONFUSION, _CONFUSION_Ia_CC, _ROOT, _SN, _W_UVOPT',\n",
       " 'CC, II, II Pec, IIn, _PEC_SN, _ROOT, _SN, _W_UVOPT',\n",
       " 'CC, I, Ib, Ib Pec, Ib-Ca, Ib/c, Ib/c Pec, SE, _PEC_SN, _ROOT, _SN, _W_UVOPT',\n",
       " 'CC, GRB, I, Ic, LGRB, SE, _ROOT, _SN, _W_HIENERGY, _W_UVOPT',\n",
       " 'CC, I, II, IIb, Ib, Ib/c, SE, _CONFLICT, _CONFLICT_I_II, _ROOT, _SN, _W_UVOPT',\n",
       " 'CC, II, II P, II P Pec, _PEC_SN, _ROOT, _SN, _W_UVOPT',\n",
       " 'I, Ia, Impostor, Star, Variable, _CONFLICT, _CONFLICT_SN_Impostor, _ROOT, _SN, _W_UVOPT',\n",
       " 'I, Ia, Ia Pec, Other, _PEC_SN, _ROOT, _SN, _W_UVOPT',\n",
       " 'CC, Galaxy, II, IIn, Impostor, _CONFLICT, _CONFLICT_SN_Impostor, _ROOT, _SN, _W_UVOPT',\n",
       " 'FRB, _ROOT, _W_RADIO',\n",
       " 'CC, I, Ia, Ic, Ic Pec, SE, _CONFLICT, _CONFLICT_Ia_CC, _PEC_SN, _ROOT, _SN, _W_UVOPT',\n",
       " 'CC, I, II, IIn, Ib/c, SE, _CONFLICT, _CONFLICT_I_II, _ROOT, _SN, _W_UVOPT',\n",
       " 'CC, Galaxy, II, Impostor, _CONFLICT, _CONFLICT_SN_Impostor, _ROOT, _SN, _W_UVOPT',\n",
       " 'CC, II, II P, II P Pec, II Pec, _PEC_SN, _ROOT, _SN, _W_UVOPT',\n",
       " 'CC, II, II Pec, SLSN, SLSN-I, _PEC_SN, _ROOT, _SN, _W_UVOPT',\n",
       " 'CC, I, II, II Pec, IIb, Ib, SE, _CONFLICT, _CONFLICT_I_II, _PEC_SN, _ROOT, _SN, _W_UVOPT',\n",
       " 'CC, I, Ia, SLSN, SLSN-I, _CONFLICT, _CONFLICT_Ia_CC, _ROOT, _SN, _W_UVOPT',\n",
       " 'CC, I, II, IIb, IIn, Ib, SE, _CONFLICT, _CONFLICT_IIn_IIb, _CONFLICT_I_II, _ROOT, _SN, _W_UVOPT',\n",
       " 'CC, II, TDE, UVOptTDE, _ROOT, _SN, _W_UVOPT',\n",
       " 'CC, GRB, I, Ic, Ic BL, Ic Pec, SE, _PEC_SN, _ROOT, _SN, _W_HIENERGY, _W_UVOPT',\n",
       " 'CC, GRB, I, Ib/c, LGRB, SE, _ROOT, _SN, _W_HIENERGY, _W_UVOPT',\n",
       " 'CC, I, Ib, Ib/c, Ic, Ic BL, Ic Pec, SE, _CONFLICT, _CONFLICT_Ib_Ic, _PEC_SN, _ROOT, _SN, _W_UVOPT',\n",
       " 'CC, I, II, Ia, Ia Pec, Ia-91T, _CONFLICT, _CONFLICT_I_II, _CONFLICT_Ia_CC, _PEC_SN, _ROOT, _SN, _W_UVOPT',\n",
       " 'CC, I, IIb, Ib, Ib Pec, Ib-Ca, Ib/c, Ib/c Pec, SE, _PEC_SN, _ROOT, _SN, _W_UVOPT',\n",
       " 'CC, I, Ia, Ib/c, Ic, SE, _CONFLICT, _CONFLICT_Ia_CC, _ROOT, _SN, _W_UVOPT',\n",
       " 'CC, I, Ic, Ic BL, Ic Pec, SE, SLSN, SLSN-I, _PEC_SN, _ROOT, _SN, _W_UVOPT',\n",
       " 'I, Ia, Ia Pec, Ia-99aa, _PEC_SN, _ROOT, _SN, _W_UVOPT',\n",
       " 'CC, I, Ib, Ib Pec, Ib-Ca, Ib/c, SE, _PEC_SN, _ROOT, _SN, _W_UVOPT',\n",
       " 'CC, II, II L, II P, _CONFLICT, _CONFLICT_II_L_II_P, _ROOT, _SN, _W_UVOPT',\n",
       " 'CC, I, IIb, Ib, Ib/c, Ic, SE, _CONFLICT, _CONFLICT_Ib_Ic, _ROOT, _SN, _W_UVOPT',\n",
       " 'CC, I, II, Ib, SE, _CONFLICT, _CONFLICT_I_II, _ROOT, _SN, _W_UVOPT',\n",
       " 'CC, SLSN, SLSN-R, _ROOT, _SN, _W_UVOPT']"
      ]
     },
     "execution_count": 9,
     "metadata": {},
     "output_type": "execute_result"
    }
   ],
   "source": [
    "list(df)"
   ]
  },
  {
   "cell_type": "code",
   "execution_count": null,
   "metadata": {},
   "outputs": [],
   "source": []
  }
 ],
 "metadata": {
  "kernelspec": {
   "display_name": "THEx env (py3env)",
   "language": "python",
   "name": "thexenv"
  },
  "language_info": {
   "codemirror_mode": {
    "name": "ipython",
    "version": 3
   },
   "file_extension": ".py",
   "mimetype": "text/x-python",
   "name": "python",
   "nbconvert_exporter": "python",
   "pygments_lexer": "ipython3",
   "version": "3.6.8"
  }
 },
 "nbformat": 4,
 "nbformat_minor": 2
}
