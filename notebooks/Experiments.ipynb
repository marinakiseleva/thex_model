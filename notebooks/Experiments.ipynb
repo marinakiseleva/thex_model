{
 "cells": [
  {
   "cell_type": "markdown",
   "metadata": {},
   "source": [
    "Define data columns to pass into model"
   ]
  },
  {
   "cell_type": "code",
   "execution_count": 1,
   "metadata": {},
   "outputs": [],
   "source": [
    "mag_cols = ['GALEXAIS_FUV', 'GALEXAIS_NUV', \n",
    "         'GALEXAIS_FUV.b', 'GALEXAIS_e_FUV.b', 'GALEXAIS_NUV.b',\n",
    "        'GALEXAIS_e_NUV.b', 'GALEXAIS_FUV.a', 'GALEXAIS_e_FUV.a', 'GALEXAIS_NUV.a',\n",
    "        'GALEXAIS_e_NUV.a', 'GALEXAIS_FUV.4', 'GALEXAIS_e_FUV.4', 'GALEXAIS_NUV.4', \n",
    "        'GALEXAIS_e_NUV.4', 'GALEXAIS_FUV.6', 'GALEXAIS_e_FUV.6', 'GALEXAIS_NUV.6', \n",
    "        'GALEXAIS_e_NUV.6',\n",
    "        'AllWISE_W1mag', 'AllWISE_e_W1mag', 'AllWISE_W2mag', 'AllWISE_e_W2mag',\n",
    "           'AllWISE_W3mag', 'AllWISE_e_W3mag', 'AllWISE_W4mag', 'AllWISE_e_W4mag', \n",
    "        'PS1_gmag' ,\n",
    "        'PS1_gmagStd', 'PS1_b_gmag' ,'PS1_B_gmag',\n",
    "        'PS1_gKmag' ,\n",
    "        'PS1_rmag',\n",
    "        'PS1_rmagStd', 'PS1_b_rmag' ,'PS1_B_rmag',\n",
    "        'PS1_rKmag' ,\n",
    "        'PS1_imag' ,\n",
    "        'PS1_imagStd', 'PS1_b_imag', 'PS1_B_imag',\n",
    "        'PS1_iKmag' ,\n",
    "        'PS1_zmag' ,\n",
    "        'PS1_zmagStd', 'PS1_b_zmag', 'PS1_B_zmag',\n",
    "        'PS1_zKmag' ,\n",
    "        'PS1_ymag',\n",
    "        'PS1_ymagStd', 'PS1_b_ymag', 'PS1_B_ymag',\n",
    "        'PS1_yKmag' \n",
    "]\n",
    "\n",
    "flux_cols = ['GALEXAIS_Fflux', 'GALEXAIS_Nflux']\n",
    "\n",
    "external_cols = ['AllWISE_Jmag', 'AllWISE_Hmag', 'AllWISE_Kmag']\n",
    "\n",
    "source_size = ['GALEXAIS_Fima',\n",
    "'GALEXAIS_Nima',\n",
    "'GALEXAIS_Fr',\n",
    "'GALEXAIS_Nr']\n",
    "\n",
    "quality_photometry= ['AllWISE_snr1',\n",
    "'AllWISE_chi2W1',\n",
    "'AllWISE_snr2',\n",
    "'AllWISE_chi2W2',\n",
    "'AllWISE_snr3',\n",
    "'AllWISE_chi2W3',\n",
    "'AllWISE_snr4',\n",
    "'AllWISE_chi2W4',\n",
    "'AllWISE_chi2']\n",
    "extinction_rates= ['GALEXAIS_E_B-V_',\n",
    "'MWExt_FUV_PS' ,\n",
    "'MWExt_NUV_PS' ,\n",
    "'MWExt_FUV_Y',\n",
    "'MWExt_NUV_Y',\n",
    "'MWExt_u' ,\n",
    "'MWExt_g' ,\n",
    "'MWExt_r' ,\n",
    "'MWExt_i' ,\n",
    "'MWExt_z' ,\n",
    "'MWExt_J' ,\n",
    "'MWExt_H' ,\n",
    "'MWExt_Ks' ,\n",
    "'MWExt_W1' ,\n",
    "'MWExt_W2' ,\n",
    "'MWExt_W3' ,\n",
    "'MWExt_W4' ]\n",
    "\n",
    "\n",
    "\n",
    "\n",
    "cols = mag_cols + flux_cols + external_cols + source_size + quality_photometry + extinction_rates"
   ]
  },
  {
   "cell_type": "markdown",
   "metadata": {},
   "source": [
    "Call Kernel Density Estimate model with all above columns, including redshift. Will also transform features (convert spectra to colors) and apply PCA, reducing to 5 components. Final results are result of 10 total runs. "
   ]
  },
  {
   "cell_type": "code",
   "execution_count": null,
   "metadata": {
    "scrolled": false
   },
   "outputs": [
    {
     "name": "stdout",
     "output_type": "stream",
     "text": [
      "\n",
      "Data Filters\n",
      "------------------\n",
      "num_runs : 5\n",
      "test_on_train : False\n",
      "folds : 2\n",
      "data_split : 0.3\n",
      "hierarchical_model : False\n",
      "top_classes : 3\n",
      "one_all : None\n",
      "subsample : None\n",
      "transform_features : True\n",
      "transform_labels : True\n",
      "incl_redshift : True\n",
      "pca : 5\n",
      "naive : False\n",
      "\n",
      "Features\n",
      "------------------\n",
      "GALEXAIS_FUV, GALEXAIS_NUV, GALEXAIS_FUV.b, GALEXAIS_NUV.b, GALEXAIS_FUV.a, GALEXAIS_NUV.a, GALEXAIS_FUV.4, GALEXAIS_NUV.4, GALEXAIS_FUV.6, GALEXAIS_NUV.6, AllWISE_W1mag, AllWISE_W2mag, AllWISE_W3mag, AllWISE_W4mag, PS1_gmag, PS1_gmagStd, PS1_b_gmag, PS1_B_gmag, PS1_gKmag, PS1_rmag, PS1_rmagStd, PS1_b_rmag, PS1_B_rmag, PS1_rKmag, PS1_imag, PS1_imagStd, PS1_b_imag, PS1_B_imag, PS1_iKmag, PS1_zmag, PS1_zmagStd, PS1_b_zmag, PS1_B_zmag, PS1_zKmag, PS1_ymag, PS1_ymagStd, PS1_b_ymag, PS1_B_ymag, PS1_yKmag, GALEXAIS_Fflux, GALEXAIS_Nflux, AllWISE_Jmag, AllWISE_Hmag, AllWISE_Kmag, GALEXAIS_Fima, GALEXAIS_Nima, GALEXAIS_Fr, GALEXAIS_Nr, AllWISE_snr1, AllWISE_chi2W1, AllWISE_snr2, AllWISE_chi2W2, AllWISE_snr3, AllWISE_chi2W3, AllWISE_snr4, AllWISE_chi2W4, AllWISE_chi2, GALEXAIS_E_B-V_, MWExt_FUV_PS, MWExt_NUV_PS, MWExt_FUV_Y, MWExt_NUV_Y, MWExt_u, MWExt_g, MWExt_r, MWExt_i, MWExt_z, MWExt_J, MWExt_H, MWExt_Ks, MWExt_W1, MWExt_W2, MWExt_W3, MWExt_W4\n",
      "\n",
      "\n",
      "Constructing Class Hierarchy Tree...\n",
      "Node: Ia Pec has already been assigned parent: I Pec\n",
      "Node: Ia-02cx has already been assigned parent: Ia\n",
      "Node: Ia-HV has already been assigned parent: Ia\n",
      "Node: Ib has already been assigned parent: I\n",
      "Node: Ic has already been assigned parent: I\n",
      "Node: Ia/c has already been assigned parent: Ia\n",
      "Node: II P-97D has already been assigned parent: II Pec\n",
      "Node: IIn P has already been assigned parent: II P\n",
      "Node: IIn L has already been assigned parent: II L\n",
      "Node: IIn Pec has already been assigned parent: II Pec\n",
      "Node: TDE has already been assigned parent: TTypes\n"
     ]
    },
    {
     "name": "stderr",
     "output_type": "stream",
     "text": [
      "/Users/marina/research/astro_research/code/thex_model/thex_data/data_clean.py:70: SettingWithCopyWarning: \n",
      "A value is trying to be set on a copy of a slice from a DataFrame.\n",
      "Try using .loc[row_indexer,col_indexer] = value instead\n",
      "\n",
      "See the caveats in the documentation: http://pandas.pydata.org/pandas-docs/stable/indexing.html#indexing-view-versus-copy\n",
      "  df[TARGET_LABEL] = df[TARGET_LABEL].apply(lambda x: int(cat_code[x]))\n"
     ]
    }
   ],
   "source": [
    "from models.kde_model.kde_model import KDEModel\n",
    "%matplotlib inline \n",
    "\n",
    "kde = KDEModel(\n",
    "         cols = cols,\n",
    "#          col_matches = ['WISE', 'GALEX', 'SDSS'],#, \"PS1\", '2MASS'],\n",
    "         folds = 2, \n",
    "         transform_features = True,\n",
    "#          one_all = ['TDE'],\n",
    "         top_classes = 3,\n",
    "         incl_redshift = True,\n",
    "         pca = 5,\n",
    "         num_runs = 1,\n",
    "         naive = False)\n",
    "kde.run_model()"
   ]
  },
  {
   "cell_type": "code",
   "execution_count": null,
   "metadata": {},
   "outputs": [],
   "source": []
  }
 ],
 "metadata": {
  "kernelspec": {
   "display_name": "THEx env (py3env)",
   "language": "python",
   "name": "thexenv"
  },
  "language_info": {
   "codemirror_mode": {
    "name": "ipython",
    "version": 3
   },
   "file_extension": ".py",
   "mimetype": "text/x-python",
   "name": "python",
   "nbconvert_exporter": "python",
   "pygments_lexer": "ipython3",
   "version": "3.6.5"
  }
 },
 "nbformat": 4,
 "nbformat_minor": 2
}
