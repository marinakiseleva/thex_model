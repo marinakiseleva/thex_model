{
 "cells": [
  {
   "cell_type": "code",
   "execution_count": null,
   "metadata": {},
   "outputs": [],
   "source": [
    "from models.hmc_model.hmc_model import HMCModel\n",
    "from models.nb_model.nb_model import NaiveBayesModel\n",
    "%matplotlib inline"
   ]
  },
  {
   "cell_type": "code",
   "execution_count": null,
   "metadata": {
    "scrolled": false
   },
   "outputs": [],
   "source": [
    "cols1 = [\"AllWISE\", \"GALEX\", \n",
    "                      \"PS1_gmag\", \"PS1_rmag\", \"PS1_imag\", \n",
    "                      \"PS1_zmag\", \"PS1_ymag\"]\n",
    "cols2 = [  \"SCOS\", \"PS1\" ]\n",
    "HMCModel(col_match = cols2,\n",
    "        test_on_train = False,\n",
    "         folds = 3,\n",
    "         transform_features= True,\n",
    "         subsample = 150,\n",
    "         incl_redshift = False,\n",
    "         data_split = 0.3,\n",
    "         top_classes = 5)"
   ]
  },
  {
   "cell_type": "code",
   "execution_count": null,
   "metadata": {},
   "outputs": [],
   "source": [
    "NaiveBayesModel(col_match = cols1,\n",
    "        test_on_train = False,\n",
    "         folds = 3,\n",
    "         transform_features = True,\n",
    "         subsample = 150,\n",
    "         incl_redshift = False,\n",
    "         data_split = 0.3,\n",
    "         top_classes = 5)"
   ]
  },
  {
   "cell_type": "code",
   "execution_count": null,
   "metadata": {},
   "outputs": [],
   "source": []
  }
 ],
 "metadata": {
  "kernelspec": {
   "display_name": "THEx env (py3env)",
   "language": "python",
   "name": "thexenv"
  },
  "language_info": {
   "codemirror_mode": {
    "name": "ipython",
    "version": 3
   },
   "file_extension": ".py",
   "mimetype": "text/x-python",
   "name": "python",
   "nbconvert_exporter": "python",
   "pygments_lexer": "ipython3",
   "version": "3.6.5"
  }
 },
 "nbformat": 4,
 "nbformat_minor": 2
}
