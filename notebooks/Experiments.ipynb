{
 "cells": [
  {
   "cell_type": "code",
   "execution_count": null,
   "metadata": {
    "scrolled": false
   },
   "outputs": [],
   "source": [
    "from models.hmc_model.hmc_model import HMCModel\n",
    "\n",
    "%matplotlib inline\n",
    "HMCModel(col_match = [\"AllWISE\", \"GALEX\", \n",
    "                      \"PS1_gmag\", \"PS1_rmag\", \"PS1_imag\", \n",
    "                      \"PS1_zmag\", \"PS1_ymag\"], \n",
    "                test_on_train = False,\n",
    "                subsample = 150, incl_redshift = True, data_split = 0.4)"
   ]
  },
  {
   "cell_type": "code",
   "execution_count": null,
   "metadata": {},
   "outputs": [],
   "source": [
    "from models.nb_model.nb_model import NaiveBayesModel\n",
    "%matplotlib inline\n",
    "NaiveBayesModel(col_match = [\"AllWISE\", \"GALEX\", \n",
    "                      \"PS1_gmag\", \"PS1_rmag\", \"PS1_imag\", \n",
    "                      \"PS1_zmag\", \"PS1_ymag\"], \n",
    "                folds = 3,\n",
    "                test_on_train = False,\n",
    "                incl_redshift = False, subsample=150)"
   ]
  },
  {
   "cell_type": "code",
   "execution_count": null,
   "metadata": {},
   "outputs": [],
   "source": [
    "from models.nb_model.nb_model import NaiveBayesModel\n",
    "%matplotlib inline\n",
    "nbm = NaiveBayesModel(col_match = [\"AllWISE\", \"GALEX\", \n",
    "                      \"PS1_gmag\", \"PS1_rmag\", \"PS1_imag\", \n",
    "                      \"PS1_zmag\", \"PS1_ymag\"], \n",
    "                folds = 2,\n",
    "                test_on_train = False,\n",
    "                incl_redshift = False, subsample=150)"
   ]
  },
  {
   "cell_type": "code",
   "execution_count": null,
   "metadata": {},
   "outputs": [],
   "source": []
  }
 ],
 "metadata": {
  "kernelspec": {
   "display_name": "THEx env (py3env)",
   "language": "python",
   "name": "thexenv"
  },
  "language_info": {
   "codemirror_mode": {
    "name": "ipython",
    "version": 3
   },
   "file_extension": ".py",
   "mimetype": "text/x-python",
   "name": "python",
   "nbconvert_exporter": "python",
   "pygments_lexer": "ipython3",
   "version": "3.6.5"
  }
 },
 "nbformat": 4,
 "nbformat_minor": 2
}
