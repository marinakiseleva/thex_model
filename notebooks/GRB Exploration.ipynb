{
 "cells": [
  {
   "cell_type": "code",
   "execution_count": null,
   "metadata": {},
   "outputs": [],
   "source": [
    "%matplotlib inline  \n",
    "from models.binary_model.binary_model import BinaryModel\n",
    "from models.ind_model.ind_model import OvAModel\n",
    "from models.multi_model.multi_model import MultiModel\n",
    "mags = [\"g_mag\",  \"r_mag\", \"i_mag\", \"z_mag\", \"y_mag\",\n",
    "        \"W1_mag\", \"W2_mag\",\n",
    "        \"J_mag\", \"K_mag\", \"H_mag\", \"redshift\"]\n",
    "\n",
    "model = MultiModel(\n",
    "       cols = mags, \n",
    "       folds = 10,     \n",
    "       transform_features = True,\n",
    "       balanced_purity = True)\n",
    "#        lsst_test= True) \n",
    "\n",
    "model.run_model()"
   ]
  },
  {
   "cell_type": "code",
   "execution_count": null,
   "metadata": {},
   "outputs": [],
   "source": [
    "import numpy as np\n",
    "X_test_list = [] # All rows in X test (all data) in right order\n",
    "y_test_label_list = [] # Probs assigned to each class, and label in last column\n",
    "\n",
    "for data in model.datas:\n",
    "    X_test_cur, test_probs = data\n",
    "    X_test_list.append(X_test_cur)\n",
    "    y_test_label_list.append(test_probs)\n",
    "\n",
    "X_test = pd.concat(X_test_list)\n",
    "y_test_label = np.concatenate(y_test_label_list)"
   ]
  },
  {
   "cell_type": "code",
   "execution_count": null,
   "metadata": {},
   "outputs": [],
   "source": [
    "if X_test.shape[0] == y_test_label.shape[0] and y_test_label.shape[0] == model.X.shape[0]:\n",
    "    print(\"Dimensions correct.\")\n",
    "else:\n",
    "    raise ValueError(\"DIMENSIONS INCORRECT.\")"
   ]
  },
  {
   "cell_type": "code",
   "execution_count": null,
   "metadata": {},
   "outputs": [],
   "source": [
    "# get all indices FNs vs TP GRBs, and plot their feature dists\n",
    "FN_GRBs_indices = []\n",
    "TP_GRBs_indices = []\n",
    "label_index = len(model.class_labels)\n",
    "for i, row in X_test.iterrows():\n",
    "    row = y_test_label[i]\n",
    "    if \"GRB\" in row[label_index]:\n",
    "        max_class_prob = np.max(row[: len(row) - 1])\n",
    "        max_class_index = np.argmax(row[: len(row) - 1])\n",
    "        max_class_name = model.class_labels[max_class_index]\n",
    "        \n",
    "        if max_class_name == \"GRB\":\n",
    "            TP_GRBs_indices.append(i)\n",
    "        else:\n",
    "            FN_GRBs_indices.append(i)\n"
   ]
  },
  {
   "cell_type": "code",
   "execution_count": null,
   "metadata": {},
   "outputs": [],
   "source": [
    "from thex_data.data_consts import * \n",
    "from scipy.stats import norm\n",
    "from utilities import utilities as util\n",
    "import matplotlib.pyplot as plt\n",
    "\n",
    "def cust_relabel(labels, class_labels):\n",
    "    \"\"\"\n",
    "    Rename list of labels to be class names.\n",
    "    \"\"\" \n",
    "    new_labels = []\n",
    "    for row_label in labels: \n",
    "        for class_name in class_labels:\n",
    "            if class_name in row_label:\n",
    "                new_labels.append(class_name) \n",
    "                break\n",
    "    return new_labels\n",
    "\n",
    "\n",
    "def plot_dist(ax, data, min_value, max_value, color, class_name):\n",
    "    \"\"\"\n",
    "    Plots the normal distribution for given data \n",
    "    \"\"\"\n",
    "    bins = np.linspace(0, max_value, 50)  \n",
    "    mean, std = norm.fit(data)\n",
    "    x = np.linspace(min_value, max_value, 100)\n",
    "    y = norm.pdf(x, mean, std)\n",
    "    print(class_name + \" mean: \" + str(mean) + \" stdev: \" + str(std))\n",
    "    ax.plot(x, y, color=color, label=class_name) \n",
    "\n",
    "def plot_classes_feature_dist(ax,  df, feature, min_value, max_value,  class_labels):\n",
    "    \"\"\"\n",
    "    Plots the normal distribution of each transient type in df over 'feature'\n",
    "    :param model_dir: directory of model to save figure\n",
    "    :param df: DataFrame with both feature column and TARGET_LABEL column\n",
    "    :param feature: Name of feature to plot distribution over\n",
    "    :param class_labels: class labels\n",
    "    \"\"\"\n",
    "    \n",
    "    bins = np.linspace(0, max_value, 50)\n",
    "    colors = plt.get_cmap('tab20').colors\n",
    "    for index, class_name in enumerate(class_labels):\n",
    "        class_values = df[df[TARGET_LABEL] == class_name][feature].values\n",
    "        plot_dist(ax, class_values, min_value, max_value, colors[index], class_name) "
   ]
  },
  {
   "cell_type": "code",
   "execution_count": null,
   "metadata": {},
   "outputs": [],
   "source": [
    "y_test_label[:,len(model.class_labels)]\n",
    "\n",
    "y_r = cust_relabel(y_test_label[:,len(model.class_labels)], model.class_labels)\n",
    "\n",
    "full_df = X_test.copy()\n",
    "full_df[TARGET_LABEL] =y_r \n",
    "import matplotlib.pyplot as plt\n",
    "\n",
    "# Plot feature dists\n",
    "for feature in ['W1_mag_minus_W2_mag']:\n",
    "    min_value = X_test[feature].min()\n",
    "    max_value = X_test[feature].max()\n",
    "    f, ax = plt.subplots(figsize=(FIG_WIDTH, FIG_HEIGHT), dpi=DPI) \n",
    "    \n",
    "    use_classes = model.class_labels # [\"Unspecified Ia\", \"Unspecified II\"]\n",
    "    plot_classes_feature_dist(ax, full_df, feature, min_value, max_value, use_classes)\n",
    "    \n",
    "    # Plot TP GRBs\n",
    "    plot_dist(ax, X_test.loc[TP_GRBs_indices, :][feature].values, min_value, max_value, \"black\", \"TP GRB\")\n",
    "    \n",
    "    # Plot FN GRBs\n",
    "    plot_dist(ax, X_test.loc[FN_GRBs_indices, :][feature].values, min_value, max_value, \"red\", \"FN GRB\")\n",
    "    \n",
    "    plt.xlabel(feature, fontsize=LAB_S)\n",
    "    plt.ylabel(\"Normalized density\", fontsize=LAB_S)\n",
    "    plt.legend(loc='best')\n",
    "    util.display_and_save_plot(model.dir, \"feature_\" + str(feature))"
   ]
  },
  {
   "cell_type": "code",
   "execution_count": null,
   "metadata": {},
   "outputs": [],
   "source": []
  }
 ],
 "metadata": {
  "kernelspec": {
   "display_name": "THEx env (py3env)",
   "language": "python",
   "name": "thexkernel"
  },
  "language_info": {
   "codemirror_mode": {
    "name": "ipython",
    "version": 3
   },
   "file_extension": ".py",
   "mimetype": "text/x-python",
   "name": "python",
   "nbconvert_exporter": "python",
   "pygments_lexer": "ipython3",
   "version": "3.8.7"
  }
 },
 "nbformat": 4,
 "nbformat_minor": 4
}
