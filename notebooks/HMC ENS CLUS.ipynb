{
 "cells": [
  {
   "cell_type": "code",
   "execution_count": null,
   "metadata": {
    "scrolled": false
   },
   "outputs": [],
   "source": [
    "from models.clus_hmc_ens_model.clus_hmc_ens_model import CLUSHMCENS\n",
    "from datetime import datetime\n",
    "import time\n",
    "%matplotlib inline \n",
    "\n",
    "# Features to be used\n",
    "mag_cols = ['GALEXAIS_FUV', 'GALEXAIS_NUV', # GALEX\n",
    "            'AllWISE_W1mag', 'AllWISE_W2mag', 'AllWISE_W3mag',  'AllWISE_W4mag', # AllWISE\n",
    "            'PS1_gmag', 'PS1_rmag', 'PS1_imag' , 'PS1_zmag', 'PS1_ymag' #Pan-STARRS\n",
    "           ]\n",
    "start_time = datetime.now() # for recording run-time\n",
    "\n",
    "#Instantiate model\n",
    "chme = CLUSHMCENS(\n",
    "         cols = mag_cols,\n",
    "         pca = 5,\n",
    "         transform_features = True,\n",
    "         incl_redshift = True,\n",
    "         num_runs = 1,\n",
    "         min_class_size = 6,\n",
    "         folds = 3,\n",
    "         naive = False)\n",
    "chme.run_model()\n",
    "\n",
    "\n",
    "end_time = datetime.now()\n",
    "mins = int(time.mktime(end_time.timetuple()) -\n",
    "           time.mktime(start_time.timetuple())) / 60\n",
    "print(chme.name + \" took \" + str(mins) + \" minutes to run \")\n"
   ]
  }
 ],
 "metadata": {
  "kernelspec": {
   "display_name": "THEx env (py3env)",
   "language": "python",
   "name": "thexenv"
  },
  "language_info": {
   "codemirror_mode": {
    "name": "ipython",
    "version": 3
   },
   "file_extension": ".py",
   "mimetype": "text/x-python",
   "name": "python",
   "nbconvert_exporter": "python",
   "pygments_lexer": "ipython3",
   "version": "3.6.5"
  }
 },
 "nbformat": 4,
 "nbformat_minor": 2
}
