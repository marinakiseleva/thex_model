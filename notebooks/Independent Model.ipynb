{
 "cells": [
  {
   "cell_type": "code",
   "execution_count": 4,
   "metadata": {},
   "outputs": [],
   "source": [
    "from datetime import datetime\n",
    "import time\n",
    "import warnings\n",
    "%matplotlib inline \n",
    "warnings.filterwarnings('ignore')\n",
    "\n",
    "# Model imports\n",
    "from mainmodel.mainmodel import MainModel\n",
    "from models.ind_model.ind_model import IndModel\n",
    "\n",
    "mag_cols = ['GALEXAIS_FUV', 'GALEXAIS_NUV', # GALEX\n",
    "            'AllWISE_W1mag', 'AllWISE_W2mag', 'AllWISE_W3mag',  'AllWISE_W4mag', # AllWISE\n",
    "            'PS1_gmag', 'PS1_rmag', 'PS1_imag' , 'PS1_zmag', 'PS1_ymag' #Pan-STARRS\n",
    "           ]\n",
    "\n",
    "def run_and_log_time(model):\n",
    "    \"\"\"\n",
    "    Runs instantiated model, and outputs time taken.\n",
    "    \"\"\"\n",
    "    start_time = datetime.now() # for recording run-time\n",
    "    \n",
    "    \n",
    "    end_time = datetime.now()\n",
    "    mins = int(time.mktime(end_time.timetuple()) -\n",
    "               time.mktime(start_time.timetuple())) / 60\n",
    "    print(model.name + \" took \" + str(round(mins,2)) + \" minutes to run \")\n",
    "    "
   ]
  },
  {
   "cell_type": "code",
   "execution_count": null,
   "metadata": {
    "scrolled": false
   },
   "outputs": [],
   "source": [
    "IndModel(cols = ['W1_mag'],\n",
    "         class_labels =['Ia', 'CC'],\n",
    "         subsample = 10\n",
    "        )"
   ]
  },
  {
   "cell_type": "code",
   "execution_count": null,
   "metadata": {},
   "outputs": [],
   "source": []
  }
 ],
 "metadata": {
  "kernelspec": {
   "display_name": "THEx env (py3env)",
   "language": "python",
   "name": "thexenv"
  },
  "language_info": {
   "codemirror_mode": {
    "name": "ipython",
    "version": 3
   },
   "file_extension": ".py",
   "mimetype": "text/x-python",
   "name": "python",
   "nbconvert_exporter": "python",
   "pygments_lexer": "ipython3",
   "version": "3.7.5"
  }
 },
 "nbformat": 4,
 "nbformat_minor": 2
}
