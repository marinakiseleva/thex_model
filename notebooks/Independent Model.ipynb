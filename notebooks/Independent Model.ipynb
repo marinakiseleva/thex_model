{
 "cells": [
  {
   "cell_type": "code",
   "execution_count": 1,
   "metadata": {},
   "outputs": [],
   "source": [
    "import numpy as np\n",
    "import pandas as pd\n",
    "TARGET_LABEL = 'transient_type'\n",
    "\n",
    "def generate_data(original, num_datapoints):\n",
    "    data = []\n",
    "    for i in range(num_datapoints):\n",
    "        noise = np.random.normal(loc=0, scale=0.1, size=3)\n",
    "        data.append(original + noise)\n",
    "        \n",
    "        \n",
    "    return np.array(data)\n",
    "\n",
    "c1 = generate_data([0.2, 0.3, 3], 10)\n",
    "c2 = generate_data([0.3, 0.2, 4.2], 10)\n",
    "data_X = np.concatenate((c1,c2))\n",
    "fake_X = pd.DataFrame(data_X, columns = ['f1', 'f2', 'f3'])\n",
    "fake_Y = pd.DataFrame([\"Ia\"]*10 + [\"CC\"]*10 , columns = [TARGET_LABEL])\n",
    "\n",
    "fake_data = [fake_X, fake_Y]"
   ]
  },
  {
   "cell_type": "code",
   "execution_count": null,
   "metadata": {
    "scrolled": false
   },
   "outputs": [
    {
     "name": "stdout",
     "output_type": "stream",
     "text": [
      "\n",
      "\n",
      "Constructing Class Hierarchy Tree...\n",
      "Using data from /Users/marina/research/astro_research/code/thex_model/thex_data/../../../data/assembled-magcols.fits\n",
      "number of rows in  : 1222\n",
      "number of rows in Ia-00cx : 1\n",
      "number of rows in FRB : 1\n",
      "number of rows in _SN : 12108\n",
      "number of rows in _W_GW : 1\n",
      "number of rows in Ia-91bg : 92\n",
      "number of rows in AGN : 8\n",
      "number of rows in Ib Pec : 23\n",
      "number of rows in I : 9246\n",
      "number of rows in SE : 778\n",
      "number of rows in UVOptTDE : 21\n",
      "number of rows in Ia Pec : 532\n",
      "number of rows in II Pec : 40\n",
      "number of rows in Variable : 2\n",
      "number of rows in II : 2831\n",
      "number of rows in Minor Planet : 1\n",
      "number of rows in Ia-02cx : 32\n",
      "number of rows in IIn Pec : 14\n",
      "number of rows in Ib/c Pec : 7\n",
      "number of rows in XrayTDE : 20\n"
     ]
    }
   ],
   "source": [
    "\n",
    "import warnings\n",
    "warnings.filterwarnings('ignore')\n",
    "with warnings.catch_warnings():\n",
    "    warnings.filterwarnings(\"ignore\",category=DeprecationWarning)\n",
    "\n",
    "\n",
    "from models.ind_model.ind_model import IndModel\n",
    "%matplotlib inline \n",
    "\n",
    "\n",
    "model = IndModel(cols = ['W1_mag'],\n",
    "         class_labels =['Ia', 'CC','Unspecified Ia'],\n",
    "         subsample = 10,\n",
    "#          data = fake_data\n",
    "        )"
   ]
  },
  {
   "cell_type": "code",
   "execution_count": null,
   "metadata": {},
   "outputs": [],
   "source": []
  },
  {
   "cell_type": "code",
   "execution_count": null,
   "metadata": {},
   "outputs": [],
   "source": []
  }
 ],
 "metadata": {
  "kernelspec": {
   "display_name": "THEx env (py3env)",
   "language": "python",
   "name": "thexenv"
  },
  "language_info": {
   "codemirror_mode": {
    "name": "ipython",
    "version": 3
   },
   "file_extension": ".py",
   "mimetype": "text/x-python",
   "name": "python",
   "nbconvert_exporter": "python",
   "pygments_lexer": "ipython3",
   "version": "3.7.5"
  }
 },
 "nbformat": 4,
 "nbformat_minor": 2
}
