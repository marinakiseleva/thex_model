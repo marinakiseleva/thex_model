{
 "cells": [
  {
   "cell_type": "code",
   "execution_count": 1,
   "metadata": {},
   "outputs": [],
   "source": [
    "mag_cols = ['GALEXAIS_FUV', 'GALEXAIS_NUV', \n",
    "         'GALEXAIS_FUV.b', 'GALEXAIS_e_FUV.b', 'GALEXAIS_NUV.b',\n",
    "        'GALEXAIS_e_NUV.b', 'GALEXAIS_FUV.a', 'GALEXAIS_e_FUV.a', 'GALEXAIS_NUV.a',\n",
    "        'GALEXAIS_e_NUV.a', 'GALEXAIS_FUV.4', 'GALEXAIS_e_FUV.4', 'GALEXAIS_NUV.4', \n",
    "        'GALEXAIS_e_NUV.4', 'GALEXAIS_FUV.6', 'GALEXAIS_e_FUV.6', 'GALEXAIS_NUV.6', \n",
    "        'GALEXAIS_e_NUV.6',\n",
    "        'AllWISE_W1mag', 'AllWISE_e_W1mag', 'AllWISE_W2mag', 'AllWISE_e_W2mag',\n",
    "           'AllWISE_W3mag', 'AllWISE_e_W3mag', 'AllWISE_W4mag', 'AllWISE_e_W4mag', \n",
    "        'PS1_gmag' ,\n",
    "        'PS1_gmagStd', 'PS1_b_gmag' ,'PS1_B_gmag',\n",
    "        'PS1_gKmag' ,\n",
    "        'PS1_rmag',\n",
    "        'PS1_rmagStd', 'PS1_b_rmag' ,'PS1_B_rmag',\n",
    "        'PS1_rKmag' ,\n",
    "        'PS1_imag' ,\n",
    "        'PS1_imagStd', 'PS1_b_imag', 'PS1_B_imag',\n",
    "        'PS1_iKmag' ,\n",
    "        'PS1_zmag' ,\n",
    "        'PS1_zmagStd', 'PS1_b_zmag', 'PS1_B_zmag',\n",
    "        'PS1_zKmag' ,\n",
    "        'PS1_ymag',\n",
    "        'PS1_ymagStd', 'PS1_b_ymag', 'PS1_B_ymag',\n",
    "        'PS1_yKmag' \n",
    "]\n",
    "\n",
    "flux_cols = ['GALEXAIS_Fflux', 'GALEXAIS_Nflux']\n",
    "\n",
    "external_cols = ['AllWISE_Jmag', 'AllWISE_Hmag', 'AllWISE_Kmag']\n",
    "\n",
    "source_size = ['GALEXAIS_Fima',\n",
    "'GALEXAIS_Nima',\n",
    "'GALEXAIS_Fr',\n",
    "'GALEXAIS_Nr']\n",
    "\n",
    "quality_photometry= ['AllWISE_snr1',\n",
    "'AllWISE_chi2W1',\n",
    "'AllWISE_snr2',\n",
    "'AllWISE_chi2W2',\n",
    "'AllWISE_snr3',\n",
    "'AllWISE_chi2W3',\n",
    "'AllWISE_snr4',\n",
    "'AllWISE_chi2W4',\n",
    "'AllWISE_chi2']\n",
    "extinction_rates= ['GALEXAIS_E_B-V_',\n",
    "'MWExt_FUV_PS' ,\n",
    "'MWExt_NUV_PS' ,\n",
    "'MWExt_FUV_Y',\n",
    "'MWExt_NUV_Y',\n",
    "'MWExt_u' ,\n",
    "'MWExt_g' ,\n",
    "'MWExt_r' ,\n",
    "'MWExt_i' ,\n",
    "'MWExt_z' ,\n",
    "'MWExt_J' ,\n",
    "'MWExt_H' ,\n",
    "'MWExt_Ks' ,\n",
    "'MWExt_W1' ,\n",
    "'MWExt_W2' ,\n",
    "'MWExt_W3' ,\n",
    "'MWExt_W4' ]\n",
    "\n",
    "\n",
    "cols = mag_cols + flux_cols + external_cols + source_size + quality_photometry + extinction_rates"
   ]
  },
  {
   "cell_type": "code",
   "execution_count": null,
   "metadata": {
    "scrolled": false
   },
   "outputs": [
    {
     "name": "stdout",
     "output_type": "stream",
     "text": [
      "\n",
      "Data Filters\n",
      "------------------\n",
      "num_runs : 1\n",
      "test_on_train : False\n",
      "folds : None\n",
      "data_split : 0.3\n",
      "top_classes : None\n",
      "one_all : None\n",
      "subsample : None\n",
      "transform_features : True\n",
      "transform_labels : False\n",
      "incl_redshift : True\n",
      "pca : None\n",
      "naive : False\n",
      "\n",
      "Features\n",
      "------------------\n",
      "GALEXAIS_FUV, GALEXAIS_NUV, GALEXAIS_FUV.b, GALEXAIS_NUV.b, GALEXAIS_FUV.a, GALEXAIS_NUV.a, GALEXAIS_FUV.4, GALEXAIS_NUV.4, GALEXAIS_FUV.6, GALEXAIS_NUV.6, AllWISE_W1mag, AllWISE_W2mag, AllWISE_W3mag, AllWISE_W4mag, PS1_gmag, PS1_gmagStd, PS1_b_gmag, PS1_B_gmag, PS1_gKmag, PS1_rmag, PS1_rmagStd, PS1_b_rmag, PS1_B_rmag, PS1_rKmag, PS1_imag, PS1_imagStd, PS1_b_imag, PS1_B_imag, PS1_iKmag, PS1_zmag, PS1_zmagStd, PS1_b_zmag, PS1_B_zmag, PS1_zKmag, PS1_ymag, PS1_ymagStd, PS1_b_ymag, PS1_B_ymag, PS1_yKmag, GALEXAIS_Fflux, GALEXAIS_Nflux, AllWISE_Jmag, AllWISE_Hmag, AllWISE_Kmag, GALEXAIS_Fima, GALEXAIS_Nima, GALEXAIS_Fr, GALEXAIS_Nr, AllWISE_snr1, AllWISE_chi2W1, AllWISE_snr2, AllWISE_chi2W2, AllWISE_snr3, AllWISE_chi2W3, AllWISE_snr4, AllWISE_chi2W4, AllWISE_chi2, GALEXAIS_E_B-V_, MWExt_FUV_PS, MWExt_NUV_PS, MWExt_FUV_Y, MWExt_NUV_Y, MWExt_u, MWExt_g, MWExt_r, MWExt_i, MWExt_z, MWExt_J, MWExt_H, MWExt_Ks, MWExt_W1, MWExt_W2, MWExt_W3, MWExt_W4\n"
     ]
    }
   ],
   "source": [
    "from models.ktrees_model.ktrees_model import KTreesModel\n",
    "%matplotlib inline \n",
    "ktree = KTreesModel(\n",
    "         cols = cols,\n",
    "#          folds = 3, \n",
    "         transform_features = True,\n",
    "         incl_redshift = True,\n",
    "         num_runs = 1,\n",
    "#          subsample = 20,\n",
    "#          top_classes = ,\n",
    "         naive = False)\n",
    "ktree.run_model()"
   ]
  },
  {
   "cell_type": "code",
   "execution_count": null,
   "metadata": {},
   "outputs": [],
   "source": []
  },
  {
   "cell_type": "code",
   "execution_count": null,
   "metadata": {},
   "outputs": [],
   "source": []
  }
 ],
 "metadata": {
  "kernelspec": {
   "display_name": "THEx env (py3env)",
   "language": "python",
   "name": "thexenv"
  },
  "language_info": {
   "codemirror_mode": {
    "name": "ipython",
    "version": 3
   },
   "file_extension": ".py",
   "mimetype": "text/x-python",
   "name": "python",
   "nbconvert_exporter": "python",
   "pygments_lexer": "ipython3",
   "version": "3.6.5"
  }
 },
 "nbformat": 4,
 "nbformat_minor": 2
}
