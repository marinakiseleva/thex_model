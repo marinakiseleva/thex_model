{
 "cells": [
  {
   "cell_type": "markdown",
   "metadata": {},
   "source": [
    "### Test KDE\n",
    "The following code verifies the formula used in Sklearn KernelDensity, by estimating the density for a single point and ensuring the same density is manually estimated as is computed by sklearn."
   ]
  },
  {
   "cell_type": "code",
   "execution_count": null,
   "metadata": {},
   "outputs": [],
   "source": [
    "import numpy as np\n",
    "# X = np.random.multivariate_normal(mean=[0.5,0.5], cov=[[0.1, 0.1],[0.1,0.1]], size=100)\n",
    "\n",
    "X = np.random.normal(0.5, 0.1, size=100)\n",
    "X_r = np.reshape(X, (100,1))\n",
    "\n",
    "from sklearn.neighbors.kde import KernelDensity \n",
    "bandwidth = 0.1\n",
    "kde = KernelDensity(bandwidth=bandwidth,  metric='euclidean', kernel='gaussian' )\n",
    "kde.fit(X_r)\n",
    "    \n",
    "    \n",
    "test_sample = X[1]\n",
    "\n",
    "k_score = kde.score_samples([[test_sample]])\n",
    "print(\"Density assigned by the Sklearn KDE \" + str(np.exp(k_score[0])))\n",
    "\n",
    "\n",
    "def gaus_kernel(u):\n",
    "    return (1/np.sqrt(2*np.pi)) * np.exp((-1/2)* (u**2))\n",
    "\n",
    "def get_k(cur_x, X, h):\n",
    "    N=X.shape[0]\n",
    "    s = 0\n",
    "    for x_i in X:\n",
    "        u = (cur_x - x_i)/h\n",
    "        s += gaus_kernel(u) \n",
    "    print(s)\n",
    "    return s * (1/(N*h))\n",
    "\n",
    "a=get_k(cur_x=test_sample, X=X, h=bandwidth)\n",
    "print(\"Density assigned manually: \" + str(a))"
   ]
  },
  {
   "cell_type": "markdown",
   "metadata": {},
   "source": [
    "## Test random baselines"
   ]
  },
  {
   "cell_type": "code",
   "execution_count": null,
   "metadata": {},
   "outputs": [],
   "source": [
    "from sklearn.datasets import load_iris, load_diabetes, load_wine\n",
    "data = load_wine()\n"
   ]
  },
  {
   "cell_type": "code",
   "execution_count": null,
   "metadata": {},
   "outputs": [],
   "source": [
    "data.target_names"
   ]
  },
  {
   "cell_type": "code",
   "execution_count": null,
   "metadata": {},
   "outputs": [],
   "source": [
    "import pandas as pd\n",
    "y=pd.DataFrame(data.target, columns=['label'])"
   ]
  },
  {
   "cell_type": "code",
   "execution_count": null,
   "metadata": {},
   "outputs": [],
   "source": [
    "X=pd.DataFrame(data.data)"
   ]
  },
  {
   "cell_type": "code",
   "execution_count": null,
   "metadata": {},
   "outputs": [],
   "source": [
    "import random\n",
    "# Return a random integer N such that a <= N <= b. Alias for randrange(a, b+1)\n",
    "rand_class = random.randint(0,2)"
   ]
  },
  {
   "cell_type": "code",
   "execution_count": null,
   "metadata": {},
   "outputs": [],
   "source": [
    "def get_preds(y):\n",
    "    N = y.shape[0]\n",
    "    preds = []\n",
    "    for i in range(N):\n",
    "#         rand_class = random.randint(0,2)\n",
    "#         preds.append(rand_class)\n",
    "        \n",
    "        # Using frequencies\n",
    "        ri = random.randint(1,100)\n",
    "        if ri >= 0 and ri <= 33:\n",
    "            rand_class=0\n",
    "        if ri > 33 and ri <= 73:\n",
    "            rand_class=1\n",
    "        if ri > 73:\n",
    "            rand_class=2\n",
    "        preds.append(rand_class)  \n",
    "    return preds"
   ]
  },
  {
   "cell_type": "code",
   "execution_count": null,
   "metadata": {},
   "outputs": [],
   "source": [
    "from sklearn.metrics import precision_score,recall_score\n",
    "avg_r = np.array([0,0,0])\n",
    "avg_p = np.array([0,0,0])\n",
    "n_iterations = 1000\n",
    "for i in range(n_iterations):\n",
    "    preds = get_preds(y)\n",
    "    p=precision_score(y_true=y['label'], y_pred=preds, average=None)\n",
    "    r=recall_score(y_true=y['label'], y_pred=preds, average=None)\n",
    "    avg_r = avg_r+r\n",
    "    avg_p = avg_p+p\n",
    "a_r = avg_r/n_iterations\n",
    "a_p = avg_p/n_iterations\n",
    "\n",
    "print(\"Average recall: \" + str(np.round(a_r,2)))\n",
    "print(\"Average precision: \" + str(np.round(a_p,2)))"
   ]
  },
  {
   "cell_type": "code",
   "execution_count": null,
   "metadata": {},
   "outputs": [],
   "source": [
    "c0 = y.loc[y.label==0].shape[0]/y.shape[0]\n",
    "c1 = y.loc[y.label==1].shape[0]/y.shape[0]\n",
    "c2 = y.loc[y.label==2].shape[0]/y.shape[0]"
   ]
  },
  {
   "cell_type": "code",
   "execution_count": null,
   "metadata": {},
   "outputs": [],
   "source": [
    "print(str(round(c0,2)), str(round(c1,2)), str(round(c2,2)))"
   ]
  },
  {
   "cell_type": "code",
   "execution_count": null,
   "metadata": {},
   "outputs": [],
   "source": [
    "# Purity baselines = proportion of class\n",
    "# Recall baselines = 1/number of classes"
   ]
  },
  {
   "cell_type": "code",
   "execution_count": null,
   "metadata": {},
   "outputs": [],
   "source": [
    "ri = random.randint(1,100)\n"
   ]
  },
  {
   "cell_type": "code",
   "execution_count": null,
   "metadata": {},
   "outputs": [],
   "source": []
  }
 ],
 "metadata": {
  "kernelspec": {
   "display_name": "THEx env (py3env)",
   "language": "python",
   "name": "thexkernel"
  },
  "language_info": {
   "codemirror_mode": {
    "name": "ipython",
    "version": 3
   },
   "file_extension": ".py",
   "mimetype": "text/x-python",
   "name": "python",
   "nbconvert_exporter": "python",
   "pygments_lexer": "ipython3",
   "version": "3.8.5"
  }
 },
 "nbformat": 4,
 "nbformat_minor": 4
}
