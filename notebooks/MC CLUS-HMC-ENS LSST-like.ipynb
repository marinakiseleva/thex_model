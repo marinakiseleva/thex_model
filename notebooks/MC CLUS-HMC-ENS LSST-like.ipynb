{
 "cells": [
  {
   "cell_type": "markdown",
   "metadata": {},
   "source": [
    "### About\n",
    "\n",
    "This notebook runs the Multiclass CLUS-HMC-ENS model using the LSST-like dataset of Pan-STARRS, GALEX, and AllWISE. It uses the magntiude columns and redshift, and derives colors based off of adjacent columns. It filters down to classes that have at least 6 samples total. We assume that any less will be insufficient for gaining patterns. \n",
    "\n",
    "Scroll down and see the resulting plots from this analysis."
   ]
  },
  {
   "cell_type": "code",
   "execution_count": null,
   "metadata": {
    "scrolled": false
   },
   "outputs": [],
   "source": [
    "from models.clus_hmc_ens_model.clus_hmc_ens_model import CLUSHMCENS\n",
    "from datetime import datetime\n",
    "import time\n",
    "%matplotlib inline \n",
    "\n",
    "# Features to be used\n",
    "mag_cols = ['GALEXAIS_FUV', 'GALEXAIS_NUV', # GALEX\n",
    "            'AllWISE_W1mag', 'AllWISE_W2mag', 'AllWISE_W3mag',  'AllWISE_W4mag', # AllWISE\n",
    "            'PS1_gmag', 'PS1_rmag', 'PS1_imag' , 'PS1_zmag', 'PS1_ymag' #Pan-STARRS\n",
    "           ]\n",
    "start_time = datetime.now() # for recording run-time\n",
    "\n",
    "#Instantiate model\n",
    "chme = CLUSHMCENS(\n",
    "         cols = mag_cols,\n",
    "         transform_features = True,\n",
    "         incl_redshift = True,\n",
    "         num_runs = 10,\n",
    "         min_class_size = 6,\n",
    "         folds = 3,\n",
    "         naive = False)\n",
    "chme.run_model()\n",
    "\n",
    "\n",
    "end_time = datetime.now()\n",
    "mins = int(time.mktime(end_time.timetuple()) -\n",
    "           time.mktime(start_time.timetuple())) / 60\n",
    "print(chme.name + \" took \" + str(mins) + \" minutes to run \")\n"
   ]
  }
 ],
 "metadata": {
  "kernelspec": {
   "display_name": "THEx env (py3env)",
   "language": "python",
   "name": "thexenv"
  },
  "language_info": {
   "codemirror_mode": {
    "name": "ipython",
    "version": 3
   },
   "file_extension": ".py",
   "mimetype": "text/x-python",
   "name": "python",
   "nbconvert_exporter": "python",
   "pygments_lexer": "ipython3",
   "version": "3.6.8"
  }
 },
 "nbformat": 4,
 "nbformat_minor": 2
}
