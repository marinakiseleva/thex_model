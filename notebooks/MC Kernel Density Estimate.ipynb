{
 "cells": [
  {
   "cell_type": "code",
   "execution_count": null,
   "metadata": {
    "scrolled": false
   },
   "outputs": [],
   "source": [
    "from models.mc_kde_model.mc_kde_model import MCKDEModel\n",
    "from datetime import datetime\n",
    "import time\n",
    "%matplotlib inline \n",
    "# import warnings\n",
    "# warnings.filterwarnings('ignore')\n",
    "\n",
    "# Features to be used\n",
    "mag_cols = ['GALEXAIS_FUV', 'GALEXAIS_NUV', # GALEX\n",
    "            'AllWISE_W1mag', 'AllWISE_W2mag', 'AllWISE_W3mag',  'AllWISE_W4mag', # AllWISE\n",
    "            'PS1_gmag', 'PS1_rmag', 'PS1_imag' , 'PS1_zmag', 'PS1_ymag' #Pan-STARRS\n",
    "           ]\n",
    "start_time = datetime.now() # for recording run-time\n",
    "\n",
    "#Instantiate model\n",
    "model = MCKDEModel(\n",
    "#          cols = mag_cols,\n",
    "#          col_matches = ['PS1'],\n",
    "         transform_features = False,\n",
    "         incl_redshift = True,\n",
    "         num_runs = 1,\n",
    "         min_class_size = 9,\n",
    "#          test_level = 3, \n",
    "#          pca = 10,\n",
    "         folds = 3)\n",
    "model.run_model()\n",
    "\n",
    "\n",
    "end_time = datetime.now()\n",
    "mins = int(time.mktime(end_time.timetuple()) -\n",
    "           time.mktime(start_time.timetuple())) / 60\n",
    "print(model.name + \" took \" + str(mins) + \" minutes to run \")\n"
   ]
  },
  {
   "cell_type": "code",
   "execution_count": null,
   "metadata": {},
   "outputs": [],
   "source": []
  },
  {
   "cell_type": "code",
   "execution_count": null,
   "metadata": {},
   "outputs": [],
   "source": []
  }
 ],
 "metadata": {
  "kernelspec": {
   "display_name": "THEx env (py3env)",
   "language": "python",
   "name": "thexenv"
  },
  "language_info": {
   "codemirror_mode": {
    "name": "ipython",
    "version": 3
   },
   "file_extension": ".py",
   "mimetype": "text/x-python",
   "name": "python",
   "nbconvert_exporter": "python",
   "pygments_lexer": "ipython3",
   "version": "3.6.8"
  }
 },
 "nbformat": 4,
 "nbformat_minor": 2
}
