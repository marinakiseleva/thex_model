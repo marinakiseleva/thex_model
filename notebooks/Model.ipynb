{
 "cells": [
  {
   "cell_type": "markdown",
   "metadata": {},
   "source": [
    "## THEx Model"
   ]
  },
  {
   "cell_type": "markdown",
   "metadata": {},
   "source": [
    "The following section illustrates how to call and run a model in THEx infrastructure. There are three models: the binary classifiers (BinaryModel), the One-Vs-All classifier (that aggregates the binary results, the OvAModel), and the KDE multiclass classifier which creates a unique KDE for each class and normalizes over those likelihoods (MultiModel). "
   ]
  },
  {
   "cell_type": "markdown",
   "metadata": {},
   "source": [
    "These are the following parameters the models handle:\n",
    "- __cols__ [default=None] : List of column/feature names to use ; the default is all numeric columns\n",
    "- __col_matches__ [default=None]: An alternative to passing in column names. Here a list of strings may be passed on, and any column containing one of these strings will be used. If both cols and col_matches are set, only col_matches is used \n",
    "- __num_runs__ [default=None]: The number of trials to run and average results over. For each trial, 80% of data will be randomly selected for training, and 20% for testing. \n",
    "- __folds__ [default=None] : The number of folds to run over, in k-fold cross-validation. If both num_runs and folds are passed in, num_runs will be used.\n",
    "- __transform_features__ [default=True]: Derives colors from adjacent magnitudes, using dictionary ORDERED_MAGS in thex_data/data_consts.py\n",
    "- __min_class_size__ [default=9]: Each class must contain at least this number of samples for it to be used. \n",
    "- __max_class_size__ [default=None]: Classes with more than this number of samples will be randomly sampled down to this number\n",
    "- __pca__ [default=None]: Number of components to reduce down to using PCA, by default there is no PCA\n",
    "- __class_labels__ [default=None]: List of classes to limit analysis to. List of all classes is in thex_data.data_consts, ORDERED_CLASSES\n",
    "- __data__ [default=None]: Optional parameter for testing particular sets of data. By default, we collect the data from the file in thex_data.data_consts DATA_PATH file, but this parameter may be used to pass in particular datasets. It must be a list of the training and testing Pandas DataFrames: [train_df, test_df] \n",
    "- __nb__ [default=False]: Boolean on applying Naive Bayes. If True, a unique KDE is created for each dimension. If False, we use multivariate KDE. \n",
    "- __priors__ [default=False]: Boolean on using frequency-based priors. Calculated for each class as proportion of dataset.\n",
    "- __lsst_test__ [default=None]: Groups Ib, Ic, Ib/c, and their subclasses into a single class, Ibc. Overwrites class_labels with custom ones for LSST testing.\n",
    "- __data_file__ [default=DATA_PATH]: .FITS file to use for data, defaults to DATA_PATH which is set in thex_data.data_consts file\n",
    "- __linear_calib__ [default=False]: Calibrates probabilities by fitting a line to the empirical probabilites of the training.\n",
    "- __lsst_test__ [default=False]: Groups Ib, Ic, Ib/c into Ibc. If no class labels are given, uses Ia, II, 91bg, TDE, and Ibc as labels.\n",
    "- __Zmodel__ [default=False]: Use only redshift as a feature.\n",
    "- __balanced_purity__ [default=False]: Report performance as balanced purity instead of standard purity. (Balanced Purity is purity if all class sizes were equal)\n",
    "- __case_code__ [default=False]: Use only those samples with these case codes. Use [\"A1\", \"F1\", \"B1\", \"G1\"]."
   ]
  },
  {
   "cell_type": "code",
   "execution_count": null,
   "metadata": {
    "scrolled": true
   },
   "outputs": [],
   "source": [
    "%matplotlib inline  \n",
    "from models.binary_model.binary_model import BinaryModel\n",
    "from models.ind_model.ind_model import OvAModel\n",
    "from models.multi_model.multi_model import MultiModel\n",
    "mags = [\"g_mag\",  \"r_mag\", \"i_mag\", \"z_mag\", \"y_mag\",\n",
    "        \"W1_mag\", \"W2_mag\",\n",
    "        \"J_mag\", \"K_mag\", \"H_mag\"]"
   ]
  },
  {
   "cell_type": "code",
   "execution_count": null,
   "metadata": {
    "scrolled": false
   },
   "outputs": [],
   "source": [
    "model1 = MultiModel(\n",
    "       cols = mags, \n",
    "       folds = 6,     \n",
    "        min_class_size = 3,\n",
    "        max_class_size = 4800,\n",
    "       transform_features = True,\n",
    "       case_code = [\"A1\", \"F1\", \"B1\", \"G1\"],\n",
    "#        balanced_purity = True,\n",
    "       priors=True,\n",
    "       lsst_test= True) \n",
    "\n",
    "# model1.run_model()"
   ]
  }
 ],
 "metadata": {
  "kernelspec": {
   "display_name": "THEx env (py3env)",
   "language": "python",
   "name": "thexkernel"
  },
  "language_info": {
   "codemirror_mode": {
    "name": "ipython",
    "version": 3
   },
   "file_extension": ".py",
   "mimetype": "text/x-python",
   "name": "python",
   "nbconvert_exporter": "python",
   "pygments_lexer": "ipython3",
   "version": "3.8.7"
  }
 },
 "nbformat": 4,
 "nbformat_minor": 2
}
