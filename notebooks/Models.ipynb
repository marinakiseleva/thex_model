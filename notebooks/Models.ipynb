{
 "cells": [
  {
   "cell_type": "code",
   "execution_count": null,
   "metadata": {},
   "outputs": [],
   "source": [
    "import numpy as np\n",
    "import pandas as pd\n",
    "TARGET_LABEL = 'transient_type'\n",
    "\n",
    "def generate_data(original, num_datapoints):\n",
    "    data = []\n",
    "    for i in range(num_datapoints):\n",
    "        noise = np.random.normal(loc=0, scale=0.1, size=3)\n",
    "        data.append(original + noise)\n",
    "        \n",
    "        \n",
    "    return np.array(data)\n",
    "num_type1 = 20\n",
    "num_type2 = 10\n",
    "c1 = generate_data([0.2, 0.3, .9], num_type1)\n",
    "c2 = generate_data([0.3, 0.1, .8], num_type2)\n",
    "data_X = np.concatenate((c1,c2))\n",
    "fake_X = pd.DataFrame(data_X, columns = ['f1', 'f2', 'f3'])\n",
    "fake_Y = pd.DataFrame([\"Ia\"]*num_type1 + [\"CC\"]*num_type2 , columns = [TARGET_LABEL])\n",
    "\n",
    "fake_data = [fake_X, fake_Y]"
   ]
  },
  {
   "cell_type": "code",
   "execution_count": null,
   "metadata": {
    "scrolled": false
   },
   "outputs": [],
   "source": [
    "from models.multi_model.multi_model import MultiModel\n",
    "%matplotlib inline \n",
    "\n",
    "\n",
    "model = MultiModel( #cols = ['W1_mag'],\n",
    "#         data = fake_data,\n",
    "         class_labels =[\"Ia\", \"CC\",  \"TDE\", \"GRB\", \"FRB\", \"GW\", \"Kilonova\"],\n",
    "         subsample = 100,\n",
    "        )\n",
    "\n",
    "model.run_model()\n"
   ]
  },
  {
   "cell_type": "code",
   "execution_count": null,
   "metadata": {
    "scrolled": false
   },
   "outputs": [],
   "source": [
    "\n",
    "import warnings\n",
    "warnings.filterwarnings('ignore')\n",
    "with warnings.catch_warnings():\n",
    "    warnings.filterwarnings(\"ignore\",category=DeprecationWarning)\n",
    "\n",
    "from models.ind_model.ind_model import IndModel\n",
    "%matplotlib inline \n",
    "\n",
    "import sys\n",
    "import numpy\n",
    "numpy.set_printoptions(threshold=sys.maxsize)\n",
    "\n",
    "\n",
    "\n",
    "model = IndModel( #cols = ['W1_mag'],\n",
    "#           data = fake_data,\n",
    "         class_labels =[\"Ia\", \"CC\",  \"TDE\", \"GRB\", \"FRB\", \"GW\", \"Kilonova\"],\n",
    "         subsample = 500,\n",
    "        )\n",
    "model.run_model()\n"
   ]
  },
  {
   "cell_type": "code",
   "execution_count": null,
   "metadata": {},
   "outputs": [],
   "source": []
  },
  {
   "cell_type": "code",
   "execution_count": null,
   "metadata": {},
   "outputs": [],
   "source": []
  },
  {
   "cell_type": "code",
   "execution_count": null,
   "metadata": {},
   "outputs": [],
   "source": []
  }
 ],
 "metadata": {
  "kernelspec": {
   "display_name": "THEx env (py3env)",
   "language": "python",
   "name": "thexenv"
  },
  "language_info": {
   "codemirror_mode": {
    "name": "ipython",
    "version": 3
   },
   "file_extension": ".py",
   "mimetype": "text/x-python",
   "name": "python",
   "nbconvert_exporter": "python",
   "pygments_lexer": "ipython3",
   "version": "3.7.5"
  }
 },
 "nbformat": 4,
 "nbformat_minor": 2
}
