{
 "cells": [
  {
   "cell_type": "markdown",
   "metadata": {},
   "source": [
    "## Run model"
   ]
  },
  {
   "cell_type": "code",
   "execution_count": null,
   "metadata": {},
   "outputs": [],
   "source": [
    "Ia_Rate = 200000\n",
    "II_Rate = 100000\n",
    "TDE_Rate = 6000\n",
    "GRB_Rate = 50\n",
    "\n",
    "import numpy as np\n",
    "rates = np.array([Ia_Rate, II_Rate, TDE_Rate, GRB_Rate])\n",
    "rates = rates/sum(rates)\n",
    "class_rates = rates.tolist()\n",
    "class_rates"
   ]
  },
  {
   "cell_type": "code",
   "execution_count": null,
   "metadata": {
    "scrolled": false
   },
   "outputs": [],
   "source": [
    "import warnings\n",
    "warnings.filterwarnings('ignore')\n",
    "with warnings.catch_warnings():\n",
    "    warnings.filterwarnings(\"ignore\",category=DeprecationWarning)\n",
    "%matplotlib inline \n",
    "import sys\n",
    "import numpy\n",
    "numpy.set_printoptions(threshold=sys.maxsize)\n",
    "\n",
    "\n",
    "from models.binary_model.binary_model import BinaryModel\n",
    "from models.ind_model.ind_model import IndModel\n",
    "from models.multi_model.multi_model import MultiModel\n",
    "\n",
    "import matplotlib.pyplot as plt\n",
    "\n",
    "# Turn interactive plotting off\n",
    "plt.ioff()\n",
    "\n",
    "\n",
    "# mags = [\"g_mag\",  \"r_mag\", \"i_mag\", \"z_mag\", \"y_mag\", \"u_mag\",\n",
    "#         \"W1_mag\", \"W2_mag\", \"W3_mag\", \"W4_mag\",\n",
    "#         \"J_mag\", \"K_mag\", \"H_mag\",\n",
    "#         \"NUV_mag\", \"FUV_mag\"]\n",
    "\n",
    "\n",
    "mags = [\"g_mag\",  \"r_mag\", \"i_mag\", \"z_mag\", \"y_mag\",\n",
    "        \"W1_mag\", \"W2_mag\",\n",
    "        \"J_mag\", \"K_mag\", \"H_mag\"]\n",
    "\n",
    "\n",
    "model = MultiModel(\n",
    "#     nb= True,\n",
    "#       num_runs = 2,\n",
    "       folds = 3,\n",
    "       min_class_size = 40,\n",
    "       max_class_size = 500,\n",
    "       class_labels = [\"Unspecified Ia\", \"Unspecified II\"], #,  \"TDE\", \"Ia-91bg\"\n",
    "#        priors = [0.65, 0.36, 0.01, 0.005],\n",
    "       transform_features = True,\n",
    "       cols = mags,\n",
    "        )\n",
    "model.run_model()"
   ]
  },
  {
   "cell_type": "code",
   "execution_count": null,
   "metadata": {},
   "outputs": [],
   "source": []
  },
  {
   "cell_type": "code",
   "execution_count": null,
   "metadata": {},
   "outputs": [],
   "source": []
  },
  {
   "cell_type": "markdown",
   "metadata": {},
   "source": [
    "Generate Fake data for testing model"
   ]
  },
  {
   "cell_type": "code",
   "execution_count": null,
   "metadata": {},
   "outputs": [],
   "source": [
    "import numpy as np\n",
    "import pandas as pd\n",
    "TARGET_LABEL = 'transient_type'\n",
    "\n",
    "def generate_data(original, num_datapoints):\n",
    "    data = []\n",
    "    for i in range(num_datapoints):\n",
    "        noise = np.random.normal(loc=0, scale=0.1, size=3)\n",
    "        data.append(original + noise)\n",
    "    return np.array(data)\n",
    "num_type1 = 40\n",
    "num_type2 = 20\n",
    "c1 = generate_data([0.2, 0.1, .9], num_type1)\n",
    "c2 = generate_data([0.1, 0.2, .8], num_type2)\n",
    "data_X = np.concatenate((c1,c2))\n",
    "fake_X = pd.DataFrame(data_X, columns = ['f1', 'f2', 'f3'])\n",
    "fake_Y = pd.DataFrame([\"Ia\"]*num_type1 + [\"CC\"]*num_type2 , columns = [TARGET_LABEL])\n",
    "\n",
    "fake_data = [fake_X, fake_Y]\n",
    "\n",
    "# fake_X.f1[0]  = None\n",
    "# fake_X.f1[1]  = None\n",
    "# for i in range(num_type1):\n",
    "#     fake_X.f1[i]  = None"
   ]
  },
  {
   "cell_type": "markdown",
   "metadata": {},
   "source": [
    "## Load previous run results"
   ]
  },
  {
   "cell_type": "code",
   "execution_count": null,
   "metadata": {
    "scrolled": false
   },
   "outputs": [],
   "source": [
    "# Rerun performance visualizations on saved output of model. \n",
    "\n",
    "import pickle\n",
    "expnum = \"96\"\n",
    "\n",
    "pickle_dir = \"/Users/marina/Documents/PhD/research/astro_research/experiments/\"+ expnum + \"/\"\n",
    "with open(pickle_dir + 'density_results.pickle', 'rb') as handle:\n",
    "    density_results = pickle.load(handle)\n",
    "\n",
    "# with open(pickle_dir + 'results.pickle', 'rb') as handle:\n",
    "#     results = pickle.load(handle)\n",
    "    \n",
    "# with open(pickle_dir + 'y.pickle', 'rb') as handle:\n",
    "#     y = pickle.load(handle)    \n",
    "    \n",
    "    \n",
    "# model.results = results\n",
    "# model.y = y\n",
    "\n",
    "\n",
    "model.plot_density_performance(density_results)\n",
    "model.plot_density_half_compare(density_results)\n",
    "model.num_runs = 100 \n",
    "model.visualize_performance()"
   ]
  },
  {
   "cell_type": "code",
   "execution_count": null,
   "metadata": {},
   "outputs": [],
   "source": []
  },
  {
   "cell_type": "markdown",
   "metadata": {},
   "source": [
    "## Examine example outputs, with and without priors"
   ]
  },
  {
   "cell_type": "code",
   "execution_count": null,
   "metadata": {},
   "outputs": [],
   "source": [
    "class_indices_map = {}"
   ]
  },
  {
   "cell_type": "code",
   "execution_count": null,
   "metadata": {},
   "outputs": [],
   "source": [
    "priors = True\n",
    "\n",
    "cur_class = 'Unspecified Ia'\n",
    "\n",
    "indices = []\n",
    "for index, row in model.X.iterrows():\n",
    "    y_example=model.y.iloc[index]\n",
    "    if  cur_class in y_example['transient_type']:\n",
    "        indices.append(index)\n",
    "indices\n"
   ]
  },
  {
   "cell_type": "code",
   "execution_count": null,
   "metadata": {},
   "outputs": [],
   "source": []
  },
  {
   "cell_type": "code",
   "execution_count": null,
   "metadata": {},
   "outputs": [],
   "source": [
    "model.model.clf.class_priors = [0.65, 0.36, 0.01, 0.005]\n",
    "# model.model.clf.class_priors = None\n",
    "# model.model.clf.class_priors "
   ]
  },
  {
   "cell_type": "code",
   "execution_count": null,
   "metadata": {
    "scrolled": true
   },
   "outputs": [],
   "source": [
    "import random\n",
    "import numpy as np\n",
    "num_samples = 11\n",
    "class_indices = []\n",
    "\n",
    "for i in range(num_samples):\n",
    "    r = random.randint(0, len(indices))\n",
    "    index = indices[r]\n",
    "    class_indices.append(index)\n",
    "    \n",
    "    X_example = model.X.iloc[index]\n",
    "    p = model.get_class_probabilities(X_example)\n",
    "    ps = list(p.values())\n",
    "    y_example = model.y.iloc[index]\n",
    "\n",
    "    r = np.hstack((ps, y_example.values))\n",
    "    model.plot_example_output(r, index, priors)\n",
    "\n",
    "\n",
    "class_indices_map[cur_class] = class_indices"
   ]
  },
  {
   "cell_type": "code",
   "execution_count": null,
   "metadata": {},
   "outputs": [],
   "source": [
    "# Run on same indices with/without priors (opposite of whatever was done last time)\n",
    "model.model.clf.class_priors = None\n",
    "priors=False\n",
    "cur_class = \"Unspecified Ia\"\n",
    "# classes = [\"TDE\"]\n",
    "class_indices = class_indices_map[cur_class] \n",
    "\n",
    "for index in class_indices:    \n",
    "    X_example = model.X.iloc[index]\n",
    "    p = model.get_class_probabilities(X_example)\n",
    "    ps = list(p.values())\n",
    "    y_example = model.y.iloc[index]\n",
    "\n",
    "    r = np.hstack((ps, y_example.values))\n",
    "    model.plot_example_output(r, index, priors)\n",
    "\n"
   ]
  },
  {
   "cell_type": "code",
   "execution_count": null,
   "metadata": {},
   "outputs": [],
   "source": []
  },
  {
   "cell_type": "code",
   "execution_count": null,
   "metadata": {},
   "outputs": [],
   "source": [
    "PATH = \"/Users/marina/Documents/PhD/research/astro_research/code/dist_code/data/\"\n",
    "# data = \"all_features\"\n",
    "data = \"g_W2\"\n",
    "model.X.to_csv(PATH+ data + \"_X.csv\")\n",
    "model.y.to_csv(PATH+ data + \"_y.csv\")"
   ]
  }
 ],
 "metadata": {
  "kernelspec": {
   "display_name": "THEx env (py3env)",
   "language": "python",
   "name": "thexenv"
  },
  "language_info": {
   "codemirror_mode": {
    "name": "ipython",
    "version": 3
   },
   "file_extension": ".py",
   "mimetype": "text/x-python",
   "name": "python",
   "nbconvert_exporter": "python",
   "pygments_lexer": "ipython3",
   "version": "3.7.5"
  }
 },
 "nbformat": 4,
 "nbformat_minor": 2
}
