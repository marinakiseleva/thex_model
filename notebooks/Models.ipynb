{
 "cells": [
  {
   "cell_type": "code",
   "execution_count": null,
   "metadata": {
    "scrolled": false
   },
   "outputs": [],
   "source": [
    "import warnings\n",
    "warnings.filterwarnings('ignore')\n",
    "with warnings.catch_warnings():\n",
    "    warnings.filterwarnings(\"ignore\",category=DeprecationWarning)\n",
    "%matplotlib inline \n",
    "import sys\n",
    "import numpy\n",
    "numpy.set_printoptions(threshold=sys.maxsize)\n",
    "\n",
    "\n",
    "from models.binary_model.binary_model import BinaryModel\n",
    "from models.ind_model.ind_model import IndModel\n",
    "from models.multi_model.multi_model import MultiModel\n",
    "\n",
    "import matplotlib.pyplot as plt\n",
    "\n",
    "# Turn interactive plotting off\n",
    "plt.ioff()\n",
    "\n",
    "mags = [\"g_mag\",  \"r_mag\", \"i_mag\", \"z_mag\", \"y_mag\", \"u_mag\",\n",
    "        \"W1_mag\", \"W2_mag\", \"W3_mag\", \"W4_mag\",\n",
    "        \"J_mag\", \"K_mag\", \"H_mag\",\n",
    "        \"NUV_mag\", \"FUV_mag\"]\n",
    "\n",
    "mags = [\"g_mag\",  \"r_mag\", \"i_mag\", \"z_mag\", \"y_mag\",\n",
    "        \"W1_mag\", \"W2_mag\",\n",
    "        \"J_mag\", \"K_mag\", \"H_mag\"]\n",
    "       # \"NUV_mag\", \"FUV_mag\"]\n",
    "\n",
    "# Custom labels same as default except parents only for GRB and TDE\n",
    "\n",
    "classes = ['CC', 'II L', 'II Pec', 'Ia-02cx', 'Ia-91T', 'Ia-91bg', 'Ia-HV', 'Ib Pec', 'Ibn', 'Ic BL', 'Ic Pec',  'SE',  'SLSN',  'GRB', 'Unspecified II', 'Unspecified II P', 'Unspecified IIb', 'Unspecified IIn', 'Unspecified Ia', 'Unspecified Ia Pec', 'Unspecified Ib', 'Unspecified Ib/c', 'Unspecified Ic', 'TDE']\n",
    "model = MultiModel(\n",
    "#        min_class_size = 25,\n",
    "       transform_features = False,\n",
    "       cols = mags,\n",
    "#        class_labels = classes\n",
    "        )\n",
    "\n",
    "model.run_model()\n"
   ]
  },
  {
   "cell_type": "markdown",
   "metadata": {},
   "source": [
    "Generate Fake data for testing using below code"
   ]
  },
  {
   "cell_type": "code",
   "execution_count": null,
   "metadata": {},
   "outputs": [],
   "source": [
    "import numpy as np\n",
    "import pandas as pd\n",
    "TARGET_LABEL = 'transient_type'\n",
    "\n",
    "def generate_data(original, num_datapoints):\n",
    "    data = []\n",
    "    for i in range(num_datapoints):\n",
    "        noise = np.random.normal(loc=0, scale=0.1, size=3)\n",
    "        data.append(original + noise)\n",
    "        \n",
    "        \n",
    "    return np.array(data)\n",
    "num_type1 = 40\n",
    "num_type2 = 20\n",
    "c1 = generate_data([0.2, 0.1, .9], num_type1)\n",
    "c2 = generate_data([0.1, 0.2, .8], num_type2)\n",
    "data_X = np.concatenate((c1,c2))\n",
    "fake_X = pd.DataFrame(data_X, columns = ['f1', 'f2', 'f3'])\n",
    "fake_Y = pd.DataFrame([\"Ia\"]*num_type1 + [\"CC\"]*num_type2 , columns = [TARGET_LABEL])\n",
    "\n",
    "fake_data = [fake_X, fake_Y]\n",
    "\n",
    "# fake_X.f1[0]  = None\n",
    "# fake_X.f1[1]  = None\n",
    "# for i in range(num_type1):\n",
    "#     fake_X.f1[i]  = None"
   ]
  },
  {
   "cell_type": "code",
   "execution_count": null,
   "metadata": {},
   "outputs": [],
   "source": []
  }
 ],
 "metadata": {
  "kernelspec": {
   "display_name": "THEx env (py3env)",
   "language": "python",
   "name": "thexenv"
  },
  "language_info": {
   "codemirror_mode": {
    "name": "ipython",
    "version": 3
   },
   "file_extension": ".py",
   "mimetype": "text/x-python",
   "name": "python",
   "nbconvert_exporter": "python",
   "pygments_lexer": "ipython3",
   "version": "3.7.5"
  }
 },
 "nbformat": 4,
 "nbformat_minor": 2
}
