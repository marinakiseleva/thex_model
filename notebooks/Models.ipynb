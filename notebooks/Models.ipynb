{
 "cells": [
  {
   "cell_type": "markdown",
   "metadata": {},
   "source": [
    "## Init model"
   ]
  },
  {
   "cell_type": "code",
   "execution_count": 1,
   "metadata": {
    "scrolled": false
   },
   "outputs": [],
   "source": [
    "import warnings\n",
    "warnings.filterwarnings('ignore')\n",
    "with warnings.catch_warnings():\n",
    "    warnings.filterwarnings(\"ignore\",category=DeprecationWarning)\n",
    "%matplotlib inline  \n",
    "from models.binary_model.binary_model import BinaryModel\n",
    "from models.ind_model.ind_model import IndModel\n",
    "from models.multi_model.multi_model import MultiModel\n",
    " \n",
    "import pickle\n",
    "\n",
    "\n",
    "mags = [\"g_mag\",  \"r_mag\", \"i_mag\", \"z_mag\", \"y_mag\",\n",
    "        \"W1_mag\", \"W2_mag\",\n",
    "        \"J_mag\", \"K_mag\", \"H_mag\"]\n",
    "\n",
    "\n",
    "# mags = [\"g_mag\",  \"r_mag\", \"i_mag\", \"z_mag\", \"y_mag\", \"u_mag\",\n",
    "#         \"W1_mag\", \"W2_mag\", \"W3_mag\", \"W4_mag\",\n",
    "#         \"J_mag\", \"K_mag\", \"H_mag\",\n",
    "#         \"NUV_mag\", \"FUV_mag\"]\n",
    "\n",
    "# model = MultiModel(\n",
    "#        folds = 40,\n",
    "#        min_class_size = 40, \n",
    "# #        nb= True,\n",
    "# #        max_class_size = 80,\n",
    "# #        class_labels = [\"Unspecified Ia\",  \"Unspecified II\"], # \"Unspecified II\", \"Ia-91bg\", \"TDE\"],\n",
    "# #        priors = [0.65, 0.36, 0.01, 0.005],\n",
    "#        transform_features = True,\n",
    "#        cols = mags,\n",
    "#         )\n",
    "\n",
    "# model.run_density_analysis()\n",
    "# model.run_model()\n",
    "# model.visualize_data()"
   ]
  },
  {
   "cell_type": "markdown",
   "metadata": {},
   "source": [
    "## Load previous runs"
   ]
  },
  {
   "cell_type": "code",
   "execution_count": 2,
   "metadata": {
    "scrolled": false
   },
   "outputs": [],
   "source": [
    "# Rerun performance visualizations on saved output of model. \n",
    "def load_prev_exp(expnum, model):\n",
    "    pickle_dir = \"/Users/marina/Documents/PhD/research/astro_research/experiments/\"+ expnum + \"/\"\n",
    "\n",
    "    # with open(pickle_dir + 'density_results.pickle', 'rb') as handle:\n",
    "    #     density_results = pickle.load(handle)  \n",
    "\n",
    "    with open(pickle_dir + 'results.pickle', 'rb') as handle:\n",
    "        results = pickle.load(handle)\n",
    "    model.results = results\n",
    "\n",
    "    with open(pickle_dir + 'y.pickle', 'rb') as handle:\n",
    "        y = pickle.load(handle)    \n",
    "    model.y = y\n",
    "    return model\n",
    "\n"
   ]
  },
  {
   "cell_type": "code",
   "execution_count": null,
   "metadata": {},
   "outputs": [],
   "source": []
  },
  {
   "cell_type": "markdown",
   "metadata": {},
   "source": [
    "## Plot example outputs"
   ]
  },
  {
   "cell_type": "code",
   "execution_count": null,
   "metadata": {},
   "outputs": [],
   "source": [
    "import random\n",
    "import numpy as np\n",
    "\n",
    "def plot_sample(model, priors, sample_index):\n",
    "    X_example = model.X.iloc[sample_index]\n",
    "    y_example = model.y.iloc[sample_index]\n",
    "    # Get probs and convert from map to list \n",
    "    ps = list(model.get_class_probabilities(X_example).values())\n",
    "    r = np.hstack((ps, y_example.values)) # combine w/ label\n",
    "    model.plot_example_output(r, sample_index, priors)\n",
    "\n",
    "def plot_new_samples(model, num_samples, indices, priors):\n",
    "    \"\"\"\n",
    "    Randomly sample from this list and plot examples\n",
    "    :param num_samples: The number of samples to randomly sample\n",
    "    :param indices: all indices for a particular class to sample from\n",
    "    :param priors: Boolean\n",
    "    \"\"\"\n",
    "    rand_indices = np.random.choice(indices, num_samples, replace=False)\n",
    "    for sample_index in rand_indices:\n",
    "        plot_sample(model, priors, sample_index)\n",
    "    return rand_indices\n"
   ]
  },
  {
   "cell_type": "code",
   "execution_count": null,
   "metadata": {},
   "outputs": [],
   "source": [
    "# Plot examples for each class, first WITHOUT prior\n",
    "class_indices_map = {}\n",
    "for cur_class in model.class_labels:\n",
    "    indices = []\n",
    "    print(\"\\nSampling class: \" + str(cur_class))\n",
    "    for index, row in model.y.iterrows():\n",
    "        if cur_class in row['transient_type']:\n",
    "            indices.append(index)\n",
    "    rand_indices = plot_new_samples(model=model, \n",
    "                  num_samples=10, \n",
    "                  indices=indices, \n",
    "                  priors=False) \n",
    "    class_indices_map[cur_class] = rand_indices\n",
    "    \n",
    "# Run on same indices WITH priors\n",
    "model.model.clf.class_priors = [0.65, 0.36, 0.01, 0.005]\n",
    "model.class_priors = [0.65, 0.36, 0.01, 0.005]\n",
    "for class_name in class_indices_map.keys():\n",
    "    for index in class_indices_map[class_name]:\n",
    "        plot_sample(model, \n",
    "                    priors=True, \n",
    "                    sample_index=index)"
   ]
  },
  {
   "cell_type": "code",
   "execution_count": null,
   "metadata": {},
   "outputs": [],
   "source": []
  }
 ],
 "metadata": {
  "kernelspec": {
   "display_name": "thexkernel",
   "language": "python",
   "name": "thexkernel"
  },
  "language_info": {
   "codemirror_mode": {
    "name": "ipython",
    "version": 3
   },
   "file_extension": ".py",
   "mimetype": "text/x-python",
   "name": "python",
   "nbconvert_exporter": "python",
   "pygments_lexer": "ipython3",
   "version": "3.7.5"
  }
 },
 "nbformat": 4,
 "nbformat_minor": 2
}
