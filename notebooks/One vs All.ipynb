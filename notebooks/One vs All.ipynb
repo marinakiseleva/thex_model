{
 "cells": [
  {
   "cell_type": "code",
   "execution_count": null,
   "metadata": {},
   "outputs": [],
   "source": [
    "from datetime import datetime\n",
    "import time\n",
    "%matplotlib inline \n",
    "import warnings\n",
    "warnings.filterwarnings('ignore')\n",
    "\n",
    "from models.ensemble_models.ktrees_model.ktrees_model import KTreesModel\n",
    "# from models.ensemble_models.mc_kde_model.mc_kde_model import MCKDEModel\n",
    "\n",
    "mag_cols = ['GALEXAIS_FUV', 'GALEXAIS_NUV', # GALEX\n",
    "            'AllWISE_W1mag', 'AllWISE_W2mag', 'AllWISE_W3mag',  'AllWISE_W4mag', # AllWISE\n",
    "            'PS1_gmag', 'PS1_rmag', 'PS1_imag' , 'PS1_zmag', 'PS1_ymag' #Pan-STARRS\n",
    "           ]\n",
    "\n",
    "def run_and_log_time(model):\n",
    "    \"\"\"\n",
    "    Runs instantiated model, and outputs time taken.\n",
    "    \"\"\"\n",
    "    start_time = datetime.now() # for recording run-time\n",
    "    \n",
    "    model.run_model()\n",
    "    \n",
    "    end_time = datetime.now()\n",
    "    mins = int(time.mktime(end_time.timetuple()) -\n",
    "               time.mktime(start_time.timetuple())) / 60\n",
    "    print(model.name + \" took \" + str(round(mins,2)) + \" minutes to run \")\n",
    "    "
   ]
  },
  {
   "cell_type": "code",
   "execution_count": null,
   "metadata": {
    "scrolled": false
   },
   "outputs": [],
   "source": [
    "ktree_model = KTreesModel(\n",
    "#          cols = mag_cols,\n",
    "#          col_matches = ['PS1'],\n",
    "    #'I',  '_PEC_SN', '_SN',  '_CONFLICT_I_II',  '_W_UVOPT',  '_CONFLICT', \n",
    "         class_labels = ['TDE'],\n",
    "    #,  'Ia-91T', 'Ic', '_ROOT', 'SE', 'Ia', 'II P', \n",
    "#                          'II', 'Ia Pec', 'Ib/c',\n",
    "#                          'Ib', 'IIb', 'IIn', 'CC\n",
    "         transform_features = False,\n",
    "         incl_redshift = True,\n",
    "         num_runs = 1,\n",
    "         min_class_size = 9,\n",
    "         folds = 3\n",
    "         )\n",
    "run_and_log_time(ktree_model)"
   ]
  },
  {
   "cell_type": "code",
   "execution_count": null,
   "metadata": {},
   "outputs": [],
   "source": []
  }
 ],
 "metadata": {
  "kernelspec": {
   "display_name": "THEx env (py3env)",
   "language": "python",
   "name": "thexenv"
  },
  "language_info": {
   "codemirror_mode": {
    "name": "ipython",
    "version": 3
   },
   "file_extension": ".py",
   "mimetype": "text/x-python",
   "name": "python",
   "nbconvert_exporter": "python",
   "pygments_lexer": "ipython3",
   "version": "3.6.8"
  }
 },
 "nbformat": 4,
 "nbformat_minor": 2
}
