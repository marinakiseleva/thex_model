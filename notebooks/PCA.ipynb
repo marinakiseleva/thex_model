{
 "cells": [
  {
   "cell_type": "code",
   "execution_count": 1,
   "metadata": {},
   "outputs": [],
   "source": [
    "from models.hmc_model.hmc_model import HMCModel\n",
    "from models.kde_model.kde_model import KDEModel\n",
    "import pandas as pd\n",
    "pd.options.mode.chained_assignment = None # reduce warnings\n",
    "%matplotlib inline \n",
    "# allow plotting in notebook\n",
    "\n",
    "cols = [ 'AllWISE_W1mag', 'AllWISE_W2mag', 'AllWISE_W3mag', 'AllWISE_W4mag',\n",
    "         'AllWISE_Jmag', 'AllWISE_Hmag', 'AllWISE_Kmag', \n",
    "        \"NED_GALEX_FUV\", 'NED_GALEX_NUV', \n",
    "        \"PS1_gmag\", \"PS1_rmag\", \"PS1_imag\",   \"PS1_zmag\", \"PS1_ymag\"]\n",
    "\n"
   ]
  },
  {
   "cell_type": "code",
   "execution_count": null,
   "metadata": {
    "scrolled": false
   },
   "outputs": [
    {
     "name": "stdout",
     "output_type": "stream",
     "text": [
      "\n",
      "Data Filters\n",
      "------------------\n",
      "num_runs : 5\n",
      "test_on_train : True\n",
      "top_classes : 5\n",
      "one_all : None\n",
      "data_split : 0.3\n",
      "subsample : 200\n",
      "transform_features : True\n",
      "incl_redshift : True\n",
      "naive : False\n"
     ]
    }
   ],
   "source": [
    "KDEModel(col_match = cols,\n",
    "         test_on_train = True, \n",
    "         folds = 3,\n",
    "         transform_features = True,\n",
    "         subsample = 200,\n",
    "         incl_redshift = True,\n",
    "#          data_split = 0.3,\n",
    "         num_runs = 5,\n",
    "         top_classes = 5,\n",
    "         naive = False)\n"
   ]
  },
  {
   "cell_type": "code",
   "execution_count": null,
   "metadata": {},
   "outputs": [],
   "source": [
    "KDEModel(col_match = cols,\n",
    "         test_on_train = False, \n",
    "         folds = 3,\n",
    "         transform_features = False,\n",
    "         subsample = 200,\n",
    "         incl_redshift = True,\n",
    "         data_split = 0.3,\n",
    "         num_runs = 10,\n",
    "         top_classes = 5)"
   ]
  },
  {
   "cell_type": "code",
   "execution_count": null,
   "metadata": {},
   "outputs": [],
   "source": []
  }
 ],
 "metadata": {
  "kernelspec": {
   "display_name": "THEx env (py3env)",
   "language": "python",
   "name": "thexenv"
  },
  "language_info": {
   "codemirror_mode": {
    "name": "ipython",
    "version": 3
   },
   "file_extension": ".py",
   "mimetype": "text/x-python",
   "name": "python",
   "nbconvert_exporter": "python",
   "pygments_lexer": "ipython3",
   "version": "3.6.5"
  }
 },
 "nbformat": 4,
 "nbformat_minor": 2
}
