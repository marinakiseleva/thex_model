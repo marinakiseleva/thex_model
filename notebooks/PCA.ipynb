{
 "cells": [
  {
   "cell_type": "code",
   "execution_count": 1,
   "metadata": {},
   "outputs": [],
   "source": [
    "from models.hmc_model.hmc_model import HMCModel\n",
    "from models.nb_model.nb_model import NaiveBayesModel\n",
    "\n",
    "import pandas as pd\n",
    "pd.options.mode.chained_assignment = None\n",
    "%matplotlib inline\n",
    "\n",
    "cols = [ 'AllWISE_W1mag', 'AllWISE_W2mag', 'AllWISE_W3mag', 'AllWISE_W4mag',\n",
    "         'AllWISE_Jmag', 'AllWISE_Hmag', 'AllWISE_Kmag', \n",
    "        \"NED_GALEX_FUV\", 'NED_GALEX_NUV', \n",
    "        \"PS1_gmag\", \"PS1_rmag\", \"PS1_imag\",   \"PS1_zmag\", \"PS1_ymag\"]\n",
    "\n"
   ]
  },
  {
   "cell_type": "code",
   "execution_count": null,
   "metadata": {
    "scrolled": false
   },
   "outputs": [
    {
     "name": "stdout",
     "output_type": "stream",
     "text": [
      "\n",
      "Data Filters\n",
      "------------------\n",
      "top_classes : 10\n",
      "one_all : ['Ib', 'I', 'Ia']\n",
      "data_split : 0.3\n",
      "subsample : 200\n",
      "transform_features : True\n",
      "incl_redshift : False\n",
      "num_runs : 10\n",
      "test_on_train : False\n",
      "\n",
      "Counts per Class\n",
      "------------------ \n",
      "Other : 200\n",
      "Ia : 200\n",
      "Ib : 38\n",
      "I : 27\n",
      "\n",
      "Total: 465\n",
      "['NED_GALEX_FUV', 'NED_GALEX_NUV', 'AllWISE_W1mag', 'AllWISE_W2mag', 'AllWISE_W3mag', 'AllWISE_W4mag', 'AllWISE_Jmag', 'AllWISE_Hmag', 'AllWISE_Kmag', 'PS1_gmag', 'PS1_rmag', 'PS1_imag', 'PS1_zmag', 'PS1_ymag']\n"
     ]
    },
    {
     "data": {
      "image/png": "[encoded data removed]",
      "text/plain": [
       "<Figure size 720x432 with 1 Axes>"
      ]
     },
     "metadata": {
      "needs_background": "light"
     },
     "output_type": "display_data"
    }
   ],
   "source": [
    "NaiveBayesModel(col_match = cols,\n",
    "         test_on_train = False, \n",
    "         folds = 3,\n",
    "         transform_features = True,\n",
    "         subsample = 200,\n",
    "         incl_redshift = False,\n",
    "         data_split = 0.3,\n",
    "         num_runs = 10,\n",
    "#          top_classes = 5,\n",
    "               one_all = [\"Ib\", \"I\", \"Ia\"])"
   ]
  },
  {
   "cell_type": "code",
   "execution_count": null,
   "metadata": {},
   "outputs": [],
   "source": [
    "\n",
    "HMCModel(col_match = cols,\n",
    "         test_on_train = False, \n",
    "         folds = 3,\n",
    "         transform_features = True,\n",
    "         subsample = 200,\n",
    "         incl_redshift = False,\n",
    "         data_split = 0.3,\n",
    "         num_runs = 10,\n",
    "#          top_classes = 5,\n",
    "         one_all = [\"Ib\", \"I\", \"Ia\"])"
   ]
  },
  {
   "cell_type": "code",
   "execution_count": null,
   "metadata": {},
   "outputs": [],
   "source": []
  }
 ],
 "metadata": {
  "kernelspec": {
   "display_name": "THEx env (py3env)",
   "language": "python",
   "name": "thexenv"
  },
  "language_info": {
   "codemirror_mode": {
    "name": "ipython",
    "version": 3
   },
   "file_extension": ".py",
   "mimetype": "text/x-python",
   "name": "python",
   "nbconvert_exporter": "python",
   "pygments_lexer": "ipython3",
   "version": "3.6.5"
  }
 },
 "nbformat": 4,
 "nbformat_minor": 2
}
