{
 "cells": [
  {
   "cell_type": "markdown",
   "metadata": {},
   "source": [
    "The following set of commands are those that are used for the results published in Kisley et al. 2021 (submitted).\n",
    "\n",
    "Note: These runs may not provide identical results due to the randomness of the K-fold cross validation data splitting (i.e. the data is split randomly each time into equal segments, and so slight variations in the KDE estimation may change the performance slightly). However, the purity and completeness per class will fall into the confidence intervals reported in Kisley et al. 2021 (submitted) 95% of the time. I.E. 95% of the time you run the following code, the performance (purity/completeness) will be within the ranges reported in the paper.\n",
    "\n",
    "The formatting and details of plots may appear different. All custom plotting is in the CustomPlotting Notebook.\n",
    "\n",
    "Runtime notes:\n",
    "\n",
    "To run locally, ensure you have followed the set up instruction in the README and have the data saved in the right location (data paths are in thex_data/data_consts.py).\n",
    "\n",
    "The following code is time consuming and is better ran as a background script. You may go to File > Download as .py. Then run it in the background. You may also update the CPU_COUNT  in thex_data/data_consts.py to a larger number, to take advantage of more parallel processsing. "
   ]
  },
  {
   "cell_type": "markdown",
   "metadata": {},
   "source": [
    "## Figure 1\n",
    "Completeness across full dataset.\n",
    "To generate completeness plot across the full dataset we use the nb=True flag, which does not drop rows even if they have NULL values for some of the columns considered. Each row need at least 1 valid value across the features considered. In this way, we may view the completeness across this set of features."
   ]
  },
  {
   "cell_type": "code",
   "execution_count": null,
   "metadata": {},
   "outputs": [],
   "source": [
    "import warnings\n",
    "warnings.filterwarnings('ignore')\n",
    "with warnings.catch_warnings():\n",
    "    warnings.filterwarnings(\"ignore\",category=DeprecationWarning)\n",
    "%matplotlib inline  \n",
    "from models.binary_model.binary_model import BinaryModel\n",
    "from models.ind_model.ind_model import OvAModel\n",
    "from models.multi_model.multi_model import MultiModel\n",
    "mags = [\"g_mag\",  \"r_mag\", \"i_mag\", \"z_mag\", \"y_mag\",\n",
    "        \"W1_mag\", \"W2_mag\",\n",
    "        \"J_mag\", \"K_mag\", \"H_mag\"]\n",
    "model = MultiModel(folds=10,\n",
    "                   min_class_size = 50,    \n",
    "                   transform_features = True,\n",
    "                   cols = mags,\n",
    "                   nb=True)  \n",
    "\n",
    "model.visualize_data()"
   ]
  },
  {
   "cell_type": "markdown",
   "metadata": {},
   "source": [
    "## Figure 2\n",
    "Distribution of transient classes. "
   ]
  },
  {
   "cell_type": "code",
   "execution_count": null,
   "metadata": {},
   "outputs": [],
   "source": [
    "model = MultiModel(folds=10,\n",
    "                   min_class_size = 50,    \n",
    "                   transform_features = True,\n",
    "                   cols = mags )  \n",
    "\n",
    "model.visualize_data()"
   ]
  },
  {
   "cell_type": "markdown",
   "metadata": {},
   "source": [
    "## Figures 5, 7, 14, 15\n",
    "Figure 5: Purity and completeness for binary model\n",
    "Figures 7,14,15: Contain plots for all models; but this code will create the corresponding plots for the binary classifier"
   ]
  },
  {
   "cell_type": "code",
   "execution_count": null,
   "metadata": {},
   "outputs": [],
   "source": [
    "\n",
    "# Binary\n",
    "binary_model = BinaryModel(folds = 10, \n",
    "                     min_class_size = 50,  \n",
    "                     transform_features = True, \n",
    "                     cols = mags) \n",
    "binary_model.run_model()\n"
   ]
  },
  {
   "cell_type": "markdown",
   "metadata": {},
   "source": [
    "## Figures 6, 7, 14, 15\n",
    "Figure 5: Purity and completeness for multi/OVA model\n",
    "Figures 7,14,15: Contain plots for all models; but this code will create the corresponding plots for the OVA and Multi\n"
   ]
  },
  {
   "cell_type": "code",
   "execution_count": null,
   "metadata": {},
   "outputs": [],
   "source": [
    "\n",
    "ova_model = OvAModel(folds = 10, \n",
    "                     min_class_size = 50,  \n",
    "                     transform_features = True, \n",
    "                     cols = mags) \n",
    "ova_model.run_model()\n",
    "\n",
    "multi_model = MultiModel(folds = 10, \n",
    "                     min_class_size = 50,  \n",
    "                     transform_features = True, \n",
    "                     cols = mags) \n",
    "multi_model.run_model()"
   ]
  },
  {
   "cell_type": "markdown",
   "metadata": {},
   "source": [
    "## Figures 8, 9, 10\n",
    "Completed using another Github repo; will be made public soon.\n"
   ]
  },
  {
   "cell_type": "markdown",
   "metadata": {},
   "source": [
    "## Figure 11\n",
    "Purity/completeness for 5 classes with vs without priors.\n"
   ]
  },
  {
   "cell_type": "code",
   "execution_count": null,
   "metadata": {},
   "outputs": [],
   "source": [
    "multi_model = MultiModel(folds = 10, \n",
    "                     min_class_size = 50,  \n",
    "                     transform_features = True, \n",
    "                     cols = mags,\n",
    "                     priors = True,\n",
    "                     classes= [\"Unspecified Ia\", \"Ia-91bg\", \"Unspecified II\", \"Ibc\", \"TDE\"],\n",
    "                     lsst_test= True) #LSST_test flag just groups Ib, Ic, and Ib/c all into Ibc class name\n",
    "multi_model.run_model()"
   ]
  }
 ],
 "metadata": {
  "kernelspec": {
   "display_name": "THEx env (py3env)",
   "language": "python",
   "name": "thexkernel"
  },
  "language_info": {
   "codemirror_mode": {
    "name": "ipython",
    "version": 3
   },
   "file_extension": ".py",
   "mimetype": "text/x-python",
   "name": "python",
   "nbconvert_exporter": "python",
   "pygments_lexer": "ipython3",
   "version": "3.8.7"
  }
 },
 "nbformat": 4,
 "nbformat_minor": 4
}
