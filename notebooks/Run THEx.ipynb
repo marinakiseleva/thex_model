{
 "cells": [
  {
   "cell_type": "code",
   "execution_count": 2,
   "metadata": {},
   "outputs": [],
   "source": [
    "from models.tree_model import hmc_tree"
   ]
  },
  {
   "cell_type": "code",
   "execution_count": 4,
   "metadata": {},
   "outputs": [],
   "source": [
    "from thex_data.data_init import collect_cols"
   ]
  },
  {
   "cell_type": "code",
   "execution_count": 5,
   "metadata": {},
   "outputs": [],
   "source": [
    "col_names = collect_cols([\"PS1\"])"
   ]
  },
  {
   "cell_type": "code",
   "execution_count": 6,
   "metadata": {},
   "outputs": [
    {
     "data": {
      "text/plain": [
       "['PS1_gmag',\n",
       " 'PS1_gKmag',\n",
       " 'PS1_rmag',\n",
       " 'PS1_rKmag',\n",
       " 'PS1_imag',\n",
       " 'PS1_iKmag',\n",
       " 'PS1_zmag',\n",
       " 'PS1_zKmag',\n",
       " 'PS1_ymag',\n",
       " 'PS1_yKmag']"
      ]
     },
     "execution_count": 6,
     "metadata": {},
     "output_type": "execute_result"
    }
   ],
   "source": [
    "col_names"
   ]
  },
  {
   "cell_type": "code",
   "execution_count": 7,
   "metadata": {},
   "outputs": [
    {
     "name": "stdout",
     "output_type": "stream",
     "text": [
      "\n",
      "Features Used\n",
      "------------------['PS1_gmag', 'PS1_gKmag', 'PS1_rmag', 'PS1_rKmag', 'PS1_imag', 'PS1_iKmag', 'PS1_zmag', 'PS1_zKmag', 'PS1_ymag', 'PS1_yKmag', 'transient_type', 'redshift']\n",
      "Counts per Class\n",
      "------------------ \n",
      "Ia : 100\n",
      "II : 100\n",
      "Ic : 100\n",
      "II P : 91\n",
      "Ib : 69\n",
      "IIn : 49\n",
      "IIb : 39\n",
      "I : 34\n",
      "Ib/c : 31\n",
      "TDE : 23\n",
      "Node: Ia Pec has already been assigned parent: I Pec\n",
      "Node: Ib has already been assigned parent: I\n",
      "Node: Ic has already been assigned parent: I\n",
      "Node: II P-97D has already been assigned parent: II Pec\n",
      "Node: IIn P has already been assigned parent: II P\n",
      "Node: IIn L has already been assigned parent: II L\n",
      "Node: IIn Pec has already been assigned parent: II Pec\n",
      "Node: TDE has already been assigned parent: TTypes\n",
      "└─TTypes\n",
      "  ├─CC\n",
      "  │ └─II\n",
      "  │   ├─II L\n",
      "  │   │ └─IIn L\n",
      "  │   ├─II P\n",
      "  │   │ ├─II P Pec\n",
      "  │   │ └─IIn P\n",
      "  │   ├─II Pec\n",
      "  │   │ ├─II P-97D\n",
      "  │   │ └─IIn Pec\n",
      "  │   ├─IIb\n",
      "  │   │ └─IIb Pec\n",
      "  │   ├─IIc\n",
      "  │   └─IIn\n",
      "  ├─GRB\n",
      "  │ ├─LGRB\n",
      "  │ └─SGRB\n",
      "  ├─I\n",
      "  │ ├─I Pec\n",
      "  │ │ ├─I-faint\n",
      "  │ │ ├─I-rapid\n",
      "  │ │ └─Ia Pec\n",
      "  │ │   ├─Ia CSM\n",
      "  │ │   ├─Ia-00cx\n",
      "  │ │   ├─Ia-02cx\n",
      "  │ │   ├─Ia-09dc\n",
      "  │ │   ├─Ia-91T\n",
      "  │ │   ├─Ia-91bg\n",
      "  │ │   ├─Ia-99aa\n",
      "  │ │   └─Ia-HV\n",
      "  │ ├─Ia\n",
      "  │ ├─Ib\n",
      "  │ │ ├─Ib Pec\n",
      "  │ │ │ └─Ib-Ca\n",
      "  │ │ └─Ibn\n",
      "  │ ├─Ib/c\n",
      "  │ │ └─Ib/c Pec\n",
      "  │ └─Ic\n",
      "  │   └─Ic Pec\n",
      "  │     ├─Ic BL\n",
      "  │     └─Ic-lum\n",
      "  ├─Kilonova\n",
      "  │ └─KilonovaCand\n",
      "  ├─SLSN\n",
      "  │ ├─SLSN-I\n",
      "  │ ├─SLSN-II\n",
      "  │ └─SLSN-R\n",
      "  └─TDE\n"
     ]
    },
    {
     "name": "stderr",
     "output_type": "stream",
     "text": [
      "/Users/marina/research/astro_research/code/thex_model/thex_data/data_prep.py:66: SettingWithCopyWarning: \n",
      "A value is trying to be set on a copy of a slice from a DataFrame.\n",
      "Try using .loc[row_indexer,col_indexer] = value instead\n",
      "\n",
      "See the caveats in the documentation: http://pandas.pydata.org/pandas-docs/stable/indexing.html#indexing-view-versus-copy\n",
      "  df[TARGET_LABEL] = df[TARGET_LABEL].apply(lambda x: int(cat_code[x]))\n",
      "/Users/marina/research/astro_research/code/thex_model/thex_data/../../libraries/hmc/hmc/hmc.py:228: NoSamplesForStageWarning: No samples to fit for stage II L\n",
      "  stage['stage'],  NoSamplesForStageWarning)\n",
      "/Users/marina/research/astro_research/code/thex_model/thex_data/../../libraries/hmc/hmc/hmc.py:228: NoSamplesForStageWarning: No samples to fit for stage II Pec\n",
      "  stage['stage'],  NoSamplesForStageWarning)\n",
      "/Users/marina/research/astro_research/code/thex_model/thex_data/../../libraries/hmc/hmc/hmc.py:228: NoSamplesForStageWarning: No samples to fit for stage GRB\n",
      "  stage['stage'],  NoSamplesForStageWarning)\n",
      "/Users/marina/research/astro_research/code/thex_model/thex_data/../../libraries/hmc/hmc/hmc.py:228: NoSamplesForStageWarning: No samples to fit for stage I Pec\n",
      "  stage['stage'],  NoSamplesForStageWarning)\n",
      "/Users/marina/research/astro_research/code/thex_model/thex_data/../../libraries/hmc/hmc/hmc.py:228: NoSamplesForStageWarning: No samples to fit for stage Ia Pec\n",
      "  stage['stage'],  NoSamplesForStageWarning)\n",
      "/Users/marina/research/astro_research/code/thex_model/thex_data/../../libraries/hmc/hmc/hmc.py:228: NoSamplesForStageWarning: No samples to fit for stage Ib Pec\n",
      "  stage['stage'],  NoSamplesForStageWarning)\n",
      "/Users/marina/research/astro_research/code/thex_model/thex_data/../../libraries/hmc/hmc/hmc.py:228: NoSamplesForStageWarning: No samples to fit for stage Ic Pec\n",
      "  stage['stage'],  NoSamplesForStageWarning)\n",
      "/Users/marina/research/astro_research/code/thex_model/thex_data/../../libraries/hmc/hmc/hmc.py:228: NoSamplesForStageWarning: No samples to fit for stage Kilonova\n",
      "  stage['stage'],  NoSamplesForStageWarning)\n"
     ]
    },
    {
     "name": "stdout",
     "output_type": "stream",
     "text": [
      "Accuracy: 0.8241469816272966\n",
      "-------------------------- Ancestors -------------------------- \n",
      "Precision Ancestors: 0.9231707317073171\n",
      "Recall Ancestors: 0.910950661853189\n",
      "F1 Ancestors: 0.9170199878861297\n",
      "-------------------------- Descendants -------------------------- \n",
      "Precision Descendants: 0.7915567282321899\n",
      "Recall Descendants: 0.9058882737795672\n",
      "F1 Descendants: 0.8448720957521708\n"
     ]
    },
    {
     "name": "stderr",
     "output_type": "stream",
     "text": [
      "/Users/marina/research/astro_research/code/thex_model/thex_data/../../libraries/hmc/hmc/hmc.py:228: NoSamplesForStageWarning: No samples to fit for stage SLSN\n",
      "  stage['stage'],  NoSamplesForStageWarning)\n",
      "/Users/marina/research/astro_research/code/thex_model/thex_data/../../libraries/hmc/hmc/hmc.py:261: NoSamplesForStageWarning: No samples to predict for stage II L\n",
      "  NoSamplesForStageWarning)\n",
      "/Users/marina/research/astro_research/code/thex_model/thex_data/../../libraries/hmc/hmc/hmc.py:261: NoSamplesForStageWarning: No samples to predict for stage II Pec\n",
      "  NoSamplesForStageWarning)\n",
      "/Users/marina/research/astro_research/code/thex_model/thex_data/../../libraries/hmc/hmc/hmc.py:261: NoSamplesForStageWarning: No samples to predict for stage GRB\n",
      "  NoSamplesForStageWarning)\n",
      "/Users/marina/research/astro_research/code/thex_model/thex_data/../../libraries/hmc/hmc/hmc.py:261: NoSamplesForStageWarning: No samples to predict for stage I Pec\n",
      "  NoSamplesForStageWarning)\n",
      "/Users/marina/research/astro_research/code/thex_model/thex_data/../../libraries/hmc/hmc/hmc.py:261: NoSamplesForStageWarning: No samples to predict for stage Ia Pec\n",
      "  NoSamplesForStageWarning)\n",
      "/Users/marina/research/astro_research/code/thex_model/thex_data/../../libraries/hmc/hmc/hmc.py:261: NoSamplesForStageWarning: No samples to predict for stage Ib Pec\n",
      "  NoSamplesForStageWarning)\n",
      "/Users/marina/research/astro_research/code/thex_model/thex_data/../../libraries/hmc/hmc/hmc.py:261: NoSamplesForStageWarning: No samples to predict for stage Ic Pec\n",
      "  NoSamplesForStageWarning)\n",
      "/Users/marina/research/astro_research/code/thex_model/thex_data/../../libraries/hmc/hmc/hmc.py:261: NoSamplesForStageWarning: No samples to predict for stage Kilonova\n",
      "  NoSamplesForStageWarning)\n",
      "/Users/marina/research/astro_research/code/thex_model/thex_data/../../libraries/hmc/hmc/hmc.py:261: NoSamplesForStageWarning: No samples to predict for stage SLSN\n",
      "  NoSamplesForStageWarning)\n",
      "/Users/marina/research/astro_research/code/thex_model/thex_data/../../libraries/hmc/hmc/hmc.py:288: FutureWarning: Method .as_matrix will be removed in a future version. Use .values instead.\n",
      "  return y_hat.ix[:, y_hat.shape[1] - 1].as_matrix()\n"
     ]
    },
    {
     "data": {
      "image/png": "[encoded data removed]",
      "text/plain": [
       "<Figure size 576x576 with 1 Axes>"
      ]
     },
     "metadata": {},
     "output_type": "display_data"
    },
    {
     "ename": "TypeError",
     "evalue": "plot_confusion_matrix() got an unexpected keyword argument 'title'",
     "output_type": "error",
     "traceback": [
      "\u001b[0;31m---------------------------------------------------------------------------\u001b[0m",
      "\u001b[0;31mTypeError\u001b[0m                                 Traceback (most recent call last)",
      "\u001b[0;32m<ipython-input-7-41cbc4a86991>\u001b[0m in \u001b[0;36m<module>\u001b[0;34m()\u001b[0m\n\u001b[1;32m      1\u001b[0m hmc_tree.run_tree(data_columns=col_names, incl_redshift=True, \n\u001b[0;32m----> 2\u001b[0;31m                   test_on_train=True)\n\u001b[0m",
      "\u001b[0;32m~/research/astro_research/code/thex_model/models/tree_model/hmc_tree.py\u001b[0m in \u001b[0;36mrun_tree\u001b[0;34m(data_columns, incl_redshift, test_on_train)\u001b[0m\n\u001b[1;32m     23\u001b[0m \u001b[0;34m\u001b[0m\u001b[0m\n\u001b[1;32m     24\u001b[0m     \u001b[0mtree\u001b[0m\u001b[0;34m,\u001b[0m \u001b[0mhmc_hierarchy\u001b[0m \u001b[0;34m=\u001b[0m \u001b[0mtrain_tree\u001b[0m\u001b[0;34m(\u001b[0m\u001b[0mX_train\u001b[0m\u001b[0;34m,\u001b[0m \u001b[0my_train_strs\u001b[0m\u001b[0;34m)\u001b[0m\u001b[0;34m\u001b[0m\u001b[0m\n\u001b[0;32m---> 25\u001b[0;31m     \u001b[0mevaluate_tree\u001b[0m\u001b[0;34m(\u001b[0m\u001b[0mtree\u001b[0m\u001b[0;34m,\u001b[0m \u001b[0mhmc_hierarchy\u001b[0m\u001b[0;34m,\u001b[0m \u001b[0mX_test\u001b[0m\u001b[0;34m,\u001b[0m \u001b[0my_test_strs\u001b[0m\u001b[0;34m)\u001b[0m\u001b[0;34m\u001b[0m\u001b[0m\n\u001b[0m\u001b[1;32m     26\u001b[0m \u001b[0;34m\u001b[0m\u001b[0m\n\u001b[1;32m     27\u001b[0m \u001b[0;34m\u001b[0m\u001b[0m\n",
      "\u001b[0;32m~/research/astro_research/code/thex_model/models/tree_model/hmc_tree.py\u001b[0m in \u001b[0;36mevaluate_tree\u001b[0;34m(tree, hmc_hierarchy, X_test, y_test)\u001b[0m\n\u001b[1;32m     86\u001b[0m     \u001b[0mactual_codes\u001b[0m \u001b[0;34m=\u001b[0m \u001b[0;34m[\u001b[0m\u001b[0mcat_code\u001b[0m\u001b[0;34m[\u001b[0m\u001b[0mcc\u001b[0m\u001b[0;34m]\u001b[0m \u001b[0;32mfor\u001b[0m \u001b[0mcc\u001b[0m \u001b[0;32min\u001b[0m \u001b[0my_test\u001b[0m\u001b[0;34m[\u001b[0m\u001b[0mTARGET_LABEL\u001b[0m\u001b[0;34m]\u001b[0m\u001b[0;34m.\u001b[0m\u001b[0mvalues\u001b[0m\u001b[0;34m]\u001b[0m\u001b[0;34m\u001b[0m\u001b[0m\n\u001b[1;32m     87\u001b[0m     plot_confusion_matrix(actual_codes, prediction_codes,\n\u001b[0;32m---> 88\u001b[0;31m                           normalize=True, title='Confusion matrix')\n\u001b[0m\u001b[1;32m     89\u001b[0m \u001b[0;34m\u001b[0m\u001b[0m\n\u001b[1;32m     90\u001b[0m     \u001b[0mcompute_plot_class_accuracy\u001b[0m\u001b[0;34m(\u001b[0m\u001b[0mprediction_codes\u001b[0m\u001b[0;34m,\u001b[0m \u001b[0mactual_codes\u001b[0m\u001b[0;34m,\u001b[0m \u001b[0;34m\"HMC Tree Accuracy\"\u001b[0m\u001b[0;34m)\u001b[0m\u001b[0;34m\u001b[0m\u001b[0m\n",
      "\u001b[0;31mTypeError\u001b[0m: plot_confusion_matrix() got an unexpected keyword argument 'title'"
     ]
    }
   ],
   "source": [
    "hmc_tree.run_tree(data_columns=col_names, incl_redshift=True, \n",
    "                  test_on_train=True)"
   ]
  },
  {
   "cell_type": "code",
   "execution_count": null,
   "metadata": {},
   "outputs": [],
   "source": []
  }
 ],
 "metadata": {
  "kernelspec": {
   "display_name": "Python 3",
   "language": "python",
   "name": "python3"
  },
  "language_info": {
   "codemirror_mode": {
    "name": "ipython",
    "version": 3
   },
   "file_extension": ".py",
   "mimetype": "text/x-python",
   "name": "python",
   "nbconvert_exporter": "python",
   "pygments_lexer": "ipython3",
   "version": "3.6.5"
  }
 },
 "nbformat": 4,
 "nbformat_minor": 2
}
