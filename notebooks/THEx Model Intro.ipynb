{
 "cells": [
  {
   "cell_type": "markdown",
   "metadata": {},
   "source": [
    "## THEx Models\n",
    "Welcome to THEx models. Models can be run through Python interpreters- like this Jupyter Notebook! This Notebook will walk you through how to run the models. First, lets import all the current models implemented."
   ]
  },
  {
   "cell_type": "code",
   "execution_count": 1,
   "metadata": {},
   "outputs": [],
   "source": [
    "from models.ktrees_model.ktrees_model import KTreesModel\n",
    "from models.clus_hmc_ens_model.clus_hmc_ens_model import CLUSHMCENS\n",
    "# So plots show up \n",
    "%matplotlib inline "
   ]
  },
  {
   "cell_type": "markdown",
   "metadata": {},
   "source": [
    "Next, let's run one of the models. We just need 3 things to run the models:\n",
    "1. Have our repo properly setup (please view the README for extensive directions)\n",
    "2. Have an idea of what features we'd like to filter on.\n",
    "\n",
    "If you are unfamiliar with THEx there is just 1 thing to keep in mind: our dataset is massively disparate. This means there is no single row of data that has values across every single feature. Actually, our dataset looks like this picture:\n",
    "\n",
    "![title](figures/thexdataset.png)\n",
    "\n",
    "No 1 row goes all the way across. So, we need to select some columns to filter on. Our models allow 2 ways of filtering on columns:\n",
    "\n",
    "- **cols** : Specific column names, provided as a list of strings. For example: [\"NED_SDSS_u\", \"NED_SDSS_g\", \"NED_SDSS_r\"]\n",
    "\n",
    "- **col_matches** : String to match column names on, provided as a list of strings. For example: [\"AllWISE\", \"GALEX\"] will filter on all columns containing those strings, which turns out to be: AllWISE_W1mag, AllWISE_W2mag, AllWISE_W3mag, AllWISE_W4mag, AllWISE_Jmag, AllWISE_Hmag, AllWISE_Kmag, NED_GALEX_FUV, NED_GALEX_NUV\n"
   ]
  },
  {
   "cell_type": "code",
   "execution_count": 2,
   "metadata": {},
   "outputs": [],
   "source": [
    "# Intialize model\n",
    "mag_cols = ['GALEXAIS_FUV', 'GALEXAIS_NUV', # GALEX\n",
    "            'AllWISE_W1mag', 'AllWISE_W2mag', 'AllWISE_W3mag',  'AllWISE_W4mag', # AllWISE\n",
    "            'PS1_gmag', 'PS1_rmag', 'PS1_imag' , 'PS1_zmag', 'PS1_ymag' #Pan-STARRS\n",
    "           ]\n",
    "ktree = KTreesModel(cols = mag_cols)"
   ]
  },
  {
   "cell_type": "code",
   "execution_count": null,
   "metadata": {
    "scrolled": false
   },
   "outputs": [],
   "source": [
    "# Run model\n",
    "ktree.run_model()"
   ]
  },
  {
   "cell_type": "markdown",
   "metadata": {},
   "source": [
    "And you're done! That's all you need to run our models. There are many optional parameters to be aware of though:\n",
    "- **folds** (default = None) : Number of folds to use in k-fold Cross Validation. If no number is passed in, the model will only run once.  Recommended value: 3 - 6.\n",
    "- **test_on_train**: (default = False) : Boolean flag that if True, will test on training data. This helps to evaluate how well the model captures patterns in the training data. \n",
    "- **incl_redshift** (default = False) : Boolean flag that if True, will use redshift as a feature. \n",
    "- **top_classes** (default = None) : Maximum number of classes to include; selected by popularity. For example: 10 most popular classes.\n",
    "- **subsample** (default = None) : Number to randomly subsample to for over-represented classes.\n",
    "- **transform_features** (default = False) : Enhance features by utilizing differences between adjacent columns as features (For example: g - r).\n",
    "- **one_all** (default = None) : Place all other classes (not passed in to this list) into 'Other' category (for example, pass in [\"Ia\", \"II\"] to have Ia, II, and Other as only classes).\n",
    "- **min_class_size** (default = 4) : Minimum number of samples in each class. If class has less than this number of samples over entire dataset, it is altogether removed. \n",
    "- **data_split** (default = 0.3) : Percent of data to use as testing split. Remaining data will be used as training.\n",
    "\n",
    "Let's change some of these flags around in the K-Trees Model to get an idea of their impact:"
   ]
  },
  {
   "cell_type": "code",
   "execution_count": null,
   "metadata": {},
   "outputs": [],
   "source": [
    "from models.ktrees_model.ktrees_model import KTreesModel\n",
    "from datetime import datetime\n",
    "import time\n",
    "\n",
    "# Features to be used\n",
    "mag_cols = ['GALEXAIS_FUV', 'GALEXAIS_NUV', # GALEX\n",
    "            'AllWISE_W1mag', 'AllWISE_W2mag', 'AllWISE_W3mag',  'AllWISE_W4mag', # AllWISE\n",
    "            'PS1_gmag', 'PS1_rmag', 'PS1_imag' , 'PS1_zmag', 'PS1_ymag' #Pan-STARRS\n",
    "           ]\n",
    "start_time = datetime.now() # for recording run-time\n",
    "\n",
    "#Instantiate model\n",
    "ktree = KTreesModel(\n",
    "         cols = mag_cols,\n",
    "         transform_features = True,\n",
    "         incl_redshift = True,\n",
    "         num_runs = 1,\n",
    "         min_class_size = 6,\n",
    "         folds = 3)\n",
    "ktree.run_model()\n",
    "\n",
    "\n",
    "end_time = datetime.now()\n",
    "mins = int(time.mktime(end_time.timetuple()) -\n",
    "           time.mktime(start_time.timetuple())) / 60\n",
    "print(ktree.name + \" took \" + str(mins) + \" minutes to run \")\n"
   ]
  }
 ],
 "metadata": {
  "kernelspec": {
   "display_name": "THEx env (py3env)",
   "language": "python",
   "name": "thexenv"
  },
  "language_info": {
   "codemirror_mode": {
    "name": "ipython",
    "version": 3
   },
   "file_extension": ".py",
   "mimetype": "text/x-python",
   "name": "python",
   "nbconvert_exporter": "python",
   "pygments_lexer": "ipython3",
   "version": "3.6.8"
  }
 },
 "nbformat": 4,
 "nbformat_minor": 2
}
