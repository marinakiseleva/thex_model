{
 "cells": [
  {
   "cell_type": "markdown",
   "metadata": {},
   "source": [
    "## THEx Models\n",
    "Welcome to THEx models. Models can be run through Python interpreters- like this Jupyter Notebook! This Notebook will walk you through how to run the models. First, lets import all the current models implemented."
   ]
  },
  {
   "cell_type": "code",
   "execution_count": null,
   "metadata": {},
   "outputs": [],
   "source": [
    "from models.hmc_model.hmc_model import HMCModel\n",
    "from models.nb_model.nb_model import NaiveBayesModel"
   ]
  },
  {
   "cell_type": "markdown",
   "metadata": {},
   "source": [
    "Next, let's run one of the models. We just need 3 things to run the models:\n",
    "1. Have our repo properly setup (please view the README for extensive directions)\n",
    "2. Have an idea of what features we'd like to filter on.\n",
    "\n",
    "If you are unfamiliar with THEx there is just 1 thing to keep in mind: our dataset is massively disparate. This means there is no single row of data that has values across every single feature. Actually, our dataset looks like this picture:\n",
    "\n",
    "![title](figures/thexdataset.png)\n",
    "\n",
    "No 1 row goes all the way across. So, we need to select some columns to filter on. Our models allow 2 ways of filtering on columns:\n",
    "\n",
    "- **cols** : Specific column names, provided as a list of strings. For example: [\"NED_SDSS_u\", \"NED_SDSS_g\", \"NED_SDSS_r\"]\n",
    "\n",
    "- **col_match** : String to match column names on, provided as a list of strings. For example: [\"AllWISE\", \"GALEX\"] will filter on all columns containing those strings, which turns out to be: AllWISE_W1mag, AllWISE_W2mag, AllWISE_W3mag, AllWISE_W4mag, AllWISE_Jmag, AllWISE_Hmag, AllWISE_Kmag, NED_GALEX_FUV, NED_GALEX_NUV\n",
    "\n"
   ]
  },
  {
   "cell_type": "code",
   "execution_count": null,
   "metadata": {},
   "outputs": [],
   "source": [
    "HMCModel(col_match = [\"ALLWISE\", \"GALEX\"])"
   ]
  },
  {
   "cell_type": "markdown",
   "metadata": {},
   "source": [
    "And you're done! That's all you need to run our models. There are many optional parameters to be aware of though:\n",
    "- **test_on_train**: (default = False) : Boolean flag that if True, will test on training data. This helps to evaluate how well the model captures patterns in the training data. \n",
    "- **folds** (default = 3) : Number of folds to use in k-fold Cross Validation. \n",
    "- **incl_redshift** (default = False) : Boolean flag that if True, will use redshift as a feature. \n",
    "- **top_classes** (default = 10) : Maximum number of classes to include; selected by popularity. For example: 10 most popular classes.\n",
    "- **subsample** (default = 200) : Number to randomly subsample to for over-represented classes.\n",
    "- **derive_diffs** (default = False) : Use differences between adjacent columns as features (For example: g - r).\n",
    "- **one_all** (default = None) : List of classes to run model on; will place all other classes into 'Other' category (for example, pass in [\"Ia\", \"II\"] to have Ia, II, and Other as only classes).\n",
    "\n",
    "\n",
    "Let's change some of these flags around in Naive Bayes to get an idea of their impact:"
   ]
  },
  {
   "cell_type": "code",
   "execution_count": null,
   "metadata": {},
   "outputs": [],
   "source": [
    "NaiveBayesModel(col_match = [\"ALLWISE\", \"GALEX\", \"PS1\"], \n",
    "                test_on_train = True,\n",
    "                incl_redshift = True)"
   ]
  },
  {
   "cell_type": "code",
   "execution_count": null,
   "metadata": {},
   "outputs": [],
   "source": []
  }
 ],
 "metadata": {
  "kernelspec": {
   "display_name": "Python 3",
   "language": "python",
   "name": "python3"
  },
  "language_info": {
   "codemirror_mode": {
    "name": "ipython",
    "version": 3
   },
   "file_extension": ".py",
   "mimetype": "text/x-python",
   "name": "python",
   "nbconvert_exporter": "python",
   "pygments_lexer": "ipython3",
   "version": "3.6.5"
  }
 },
 "nbformat": 4,
 "nbformat_minor": 2
}
